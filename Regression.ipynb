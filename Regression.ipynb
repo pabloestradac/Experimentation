{
 "cells": [
  {
   "cell_type": "markdown",
   "metadata": {},
   "source": [
    "# Regression in Marketing A/B Testing\n",
    "\n",
    "Simple marketing campaign with experiment and control group for A/B testing [(Kaggle dataset)](https://www.kaggle.com/datasets/faviovaz/marketing-ab-testing/data).\n",
    "\n",
    "The majority of the people will be exposed to ads (the experimental group). And a small portion of people (the control group) would instead see a Public Service Announcement (PSA) (or nothing) in the exact size and place the ad would normally be.\n",
    "\n",
    "**Data dictionary:**\n",
    "\n",
    "- user id: User ID (unique)\n",
    "- test group: If \"ad\" the person saw the advertisement, if \"psa\" they only saw the public service announcement\n",
    "- converted: If a person bought the product then True, else is False\n",
    "- total ads: Amount of ads seen by person\n",
    "- most ads day: Day that the person saw the biggest amount of ads\n",
    "- most ads hour: Hour of day that the person saw the biggest amount of ads"
   ]
  },
  {
   "cell_type": "code",
   "execution_count": 1,
   "metadata": {},
   "outputs": [],
   "source": [
    "import pandas as pd\n",
    "import statsmodels.formula.api as smf\n",
    "import statsmodels.api as sm\n",
    "import patsy"
   ]
  },
  {
   "cell_type": "code",
   "execution_count": 2,
   "metadata": {},
   "outputs": [
    {
     "data": {
      "text/html": [
       "<div>\n",
       "<style scoped>\n",
       "    .dataframe tbody tr th:only-of-type {\n",
       "        vertical-align: middle;\n",
       "    }\n",
       "\n",
       "    .dataframe tbody tr th {\n",
       "        vertical-align: top;\n",
       "    }\n",
       "\n",
       "    .dataframe thead th {\n",
       "        text-align: right;\n",
       "    }\n",
       "</style>\n",
       "<table border=\"1\" class=\"dataframe\">\n",
       "  <thead>\n",
       "    <tr style=\"text-align: right;\">\n",
       "      <th></th>\n",
       "      <th>user_id</th>\n",
       "      <th>test_group</th>\n",
       "      <th>converted</th>\n",
       "      <th>total_ads</th>\n",
       "      <th>most_ads_day</th>\n",
       "      <th>most_ads_hour</th>\n",
       "      <th>treatment</th>\n",
       "    </tr>\n",
       "  </thead>\n",
       "  <tbody>\n",
       "    <tr>\n",
       "      <th>0</th>\n",
       "      <td>1069124</td>\n",
       "      <td>ad</td>\n",
       "      <td>0</td>\n",
       "      <td>130</td>\n",
       "      <td>Monday</td>\n",
       "      <td>20</td>\n",
       "      <td>1</td>\n",
       "    </tr>\n",
       "    <tr>\n",
       "      <th>1</th>\n",
       "      <td>1119715</td>\n",
       "      <td>ad</td>\n",
       "      <td>0</td>\n",
       "      <td>93</td>\n",
       "      <td>Tuesday</td>\n",
       "      <td>22</td>\n",
       "      <td>1</td>\n",
       "    </tr>\n",
       "    <tr>\n",
       "      <th>2</th>\n",
       "      <td>1144181</td>\n",
       "      <td>ad</td>\n",
       "      <td>0</td>\n",
       "      <td>21</td>\n",
       "      <td>Tuesday</td>\n",
       "      <td>18</td>\n",
       "      <td>1</td>\n",
       "    </tr>\n",
       "    <tr>\n",
       "      <th>3</th>\n",
       "      <td>1435133</td>\n",
       "      <td>ad</td>\n",
       "      <td>0</td>\n",
       "      <td>355</td>\n",
       "      <td>Tuesday</td>\n",
       "      <td>10</td>\n",
       "      <td>1</td>\n",
       "    </tr>\n",
       "    <tr>\n",
       "      <th>4</th>\n",
       "      <td>1015700</td>\n",
       "      <td>ad</td>\n",
       "      <td>0</td>\n",
       "      <td>276</td>\n",
       "      <td>Friday</td>\n",
       "      <td>14</td>\n",
       "      <td>1</td>\n",
       "    </tr>\n",
       "  </tbody>\n",
       "</table>\n",
       "</div>"
      ],
      "text/plain": [
       "   user_id test_group  converted  total_ads most_ads_day  most_ads_hour  \\\n",
       "0  1069124         ad          0        130       Monday             20   \n",
       "1  1119715         ad          0         93      Tuesday             22   \n",
       "2  1144181         ad          0         21      Tuesday             18   \n",
       "3  1435133         ad          0        355      Tuesday             10   \n",
       "4  1015700         ad          0        276       Friday             14   \n",
       "\n",
       "   treatment  \n",
       "0          1  \n",
       "1          1  \n",
       "2          1  \n",
       "3          1  \n",
       "4          1  "
      ]
     },
     "execution_count": 2,
     "metadata": {},
     "output_type": "execute_result"
    }
   ],
   "source": [
    "# Read data and clean up column names\n",
    "df = pd.read_csv('marketing_campaign.csv', index_col=0)\n",
    "df = df.rename(columns=lambda x: x.strip().replace(\" \", \"_\"))\n",
    "df['treatment'] = (df['test_group'] == 'ad').astype(int)\n",
    "df['converted'] = df['converted'].astype(int)\n",
    "df.head()"
   ]
  },
  {
   "cell_type": "markdown",
   "metadata": {},
   "source": [
    "## Regression for A/B Testing\n",
    "\n",
    "$$\n",
    "\\text{converted} = \\beta_0 + \\beta_1 \\times \\text{treatment} + \\epsilon\n",
    "$$"
   ]
  },
  {
   "cell_type": "code",
   "execution_count": 3,
   "metadata": {},
   "outputs": [
    {
     "data": {
      "text/html": [
       "<table class=\"simpletable\">\n",
       "<tr>\n",
       "      <td></td>         <th>coef</th>     <th>std err</th>      <th>z</th>      <th>P>|z|</th>  <th>[0.025</th>    <th>0.975]</th>  \n",
       "</tr>\n",
       "<tr>\n",
       "  <th>Intercept</th> <td>    0.0179</td> <td>    0.001</td> <td>   20.679</td> <td> 0.000</td> <td>    0.016</td> <td>    0.020</td>\n",
       "</tr>\n",
       "<tr>\n",
       "  <th>treatment</th> <td>    0.0077</td> <td>    0.001</td> <td>    8.657</td> <td> 0.000</td> <td>    0.006</td> <td>    0.009</td>\n",
       "</tr>\n",
       "</table>"
      ],
      "text/latex": [
       "\\begin{center}\n",
       "\\begin{tabular}{lcccccc}\n",
       "\\toprule\n",
       "                   & \\textbf{coef} & \\textbf{std err} & \\textbf{z} & \\textbf{P$> |$z$|$} & \\textbf{[0.025} & \\textbf{0.975]}  \\\\\n",
       "\\midrule\n",
       "\\textbf{Intercept} &       0.0179  &        0.001     &    20.679  &         0.000        &        0.016    &        0.020     \\\\\n",
       "\\textbf{treatment} &       0.0077  &        0.001     &     8.657  &         0.000        &        0.006    &        0.009     \\\\\n",
       "\\bottomrule\n",
       "\\end{tabular}\n",
       "\\end{center}"
      ],
      "text/plain": [
       "<class 'statsmodels.iolib.table.SimpleTable'>"
      ]
     },
     "execution_count": 3,
     "metadata": {},
     "output_type": "execute_result"
    }
   ],
   "source": [
    "model_base = ('converted ~ treatment')\n",
    "base = smf.ols(model_base, data=df)\n",
    "results_base = base.fit(cov_type='HC1')\n",
    "results_base.summary().tables[1]"
   ]
  },
  {
   "cell_type": "code",
   "execution_count": 4,
   "metadata": {},
   "outputs": [
    {
     "name": "stdout",
     "output_type": "stream",
     "text": [
      "The effect of the treatment is: 0.77%\n",
      "Standard error: 0.089%\n",
      "Confidence interval: 0.60% - 0.94%\n"
     ]
    }
   ],
   "source": [
    "base_est = results_base.params['treatment']\n",
    "base_se = results_base.bse['treatment']\n",
    "base_ci = results_base.conf_int().loc['treatment']\n",
    "print(f\"The effect of the treatment is: {base_est*100:.2f}%\")\n",
    "print(f\"Standard error: {base_se*100:.3f}%\")\n",
    "print(f\"Confidence interval: {base_ci[0]*100:.2f}% - {base_ci[1]*100:.2f}%\")"
   ]
  },
  {
   "cell_type": "markdown",
   "metadata": {},
   "source": [
    "## Additive Regression Model\n",
    "\n",
    "$$\n",
    "\\text{converted} = \\beta_0 + \\beta_1 \\times \\text{treatment} + \\beta_2 \\times \\text{total ads} + \\beta_3 \\times \\text{most ads day} + \\beta_4 \\times \\text{most ads hour} + \\epsilon\n",
    "$$"
   ]
  },
  {
   "cell_type": "code",
   "execution_count": 5,
   "metadata": {},
   "outputs": [
    {
     "data": {
      "text/html": [
       "<table class=\"simpletable\">\n",
       "<tr>\n",
       "              <td></td>                 <th>coef</th>     <th>std err</th>      <th>z</th>      <th>P>|z|</th>  <th>[0.025</th>    <th>0.975]</th>  \n",
       "</tr>\n",
       "<tr>\n",
       "  <th>Intercept</th>                 <td>   -0.0112</td> <td>    0.002</td> <td>   -5.563</td> <td> 0.000</td> <td>   -0.015</td> <td>   -0.007</td>\n",
       "</tr>\n",
       "<tr>\n",
       "  <th>most_ads_day[T.Monday]</th>    <td>    0.0115</td> <td>    0.001</td> <td>   15.185</td> <td> 0.000</td> <td>    0.010</td> <td>    0.013</td>\n",
       "</tr>\n",
       "<tr>\n",
       "  <th>most_ads_day[T.Saturday]</th>  <td>   -0.0002</td> <td>    0.001</td> <td>   -0.298</td> <td> 0.766</td> <td>   -0.002</td> <td>    0.001</td>\n",
       "</tr>\n",
       "<tr>\n",
       "  <th>most_ads_day[T.Sunday]</th>    <td>    0.0040</td> <td>    0.001</td> <td>    5.684</td> <td> 0.000</td> <td>    0.003</td> <td>    0.005</td>\n",
       "</tr>\n",
       "<tr>\n",
       "  <th>most_ads_day[T.Thursday]</th>  <td>    0.0019</td> <td>    0.001</td> <td>    2.737</td> <td> 0.006</td> <td>    0.001</td> <td>    0.003</td>\n",
       "</tr>\n",
       "<tr>\n",
       "  <th>most_ads_day[T.Tuesday]</th>   <td>    0.0100</td> <td>    0.001</td> <td>   13.159</td> <td> 0.000</td> <td>    0.009</td> <td>    0.012</td>\n",
       "</tr>\n",
       "<tr>\n",
       "  <th>most_ads_day[T.Wednesday]</th> <td>    0.0047</td> <td>    0.001</td> <td>    6.485</td> <td> 0.000</td> <td>    0.003</td> <td>    0.006</td>\n",
       "</tr>\n",
       "<tr>\n",
       "  <th>C(most_ads_hour)[T.1]</th>     <td>   -0.0070</td> <td>    0.002</td> <td>   -2.906</td> <td> 0.004</td> <td>   -0.012</td> <td>   -0.002</td>\n",
       "</tr>\n",
       "<tr>\n",
       "  <th>C(most_ads_hour)[T.2]</th>     <td>   -0.0125</td> <td>    0.002</td> <td>   -5.823</td> <td> 0.000</td> <td>   -0.017</td> <td>   -0.008</td>\n",
       "</tr>\n",
       "<tr>\n",
       "  <th>C(most_ads_hour)[T.3]</th>     <td>   -0.0075</td> <td>    0.003</td> <td>   -2.831</td> <td> 0.005</td> <td>   -0.013</td> <td>   -0.002</td>\n",
       "</tr>\n",
       "<tr>\n",
       "  <th>C(most_ads_hour)[T.4]</th>     <td>   -0.0114</td> <td>    0.005</td> <td>   -2.230</td> <td> 0.026</td> <td>   -0.021</td> <td>   -0.001</td>\n",
       "</tr>\n",
       "<tr>\n",
       "  <th>C(most_ads_hour)[T.5]</th>     <td>   -0.0135</td> <td>    0.006</td> <td>   -2.391</td> <td> 0.017</td> <td>   -0.025</td> <td>   -0.002</td>\n",
       "</tr>\n",
       "<tr>\n",
       "  <th>C(most_ads_hour)[T.6]</th>     <td>   -0.0108</td> <td>    0.004</td> <td>   -2.879</td> <td> 0.004</td> <td>   -0.018</td> <td>   -0.003</td>\n",
       "</tr>\n",
       "<tr>\n",
       "  <th>C(most_ads_hour)[T.7]</th>     <td>   -0.0066</td> <td>    0.002</td> <td>   -2.696</td> <td> 0.007</td> <td>   -0.011</td> <td>   -0.002</td>\n",
       "</tr>\n",
       "<tr>\n",
       "  <th>C(most_ads_hour)[T.8]</th>     <td> 4.343e-05</td> <td>    0.002</td> <td>    0.021</td> <td> 0.983</td> <td>   -0.004</td> <td>    0.004</td>\n",
       "</tr>\n",
       "<tr>\n",
       "  <th>C(most_ads_hour)[T.9]</th>     <td> 4.626e-05</td> <td>    0.002</td> <td>    0.024</td> <td> 0.981</td> <td>   -0.004</td> <td>    0.004</td>\n",
       "</tr>\n",
       "<tr>\n",
       "  <th>C(most_ads_hour)[T.10]</th>    <td>    0.0010</td> <td>    0.002</td> <td>    0.529</td> <td> 0.597</td> <td>   -0.003</td> <td>    0.005</td>\n",
       "</tr>\n",
       "<tr>\n",
       "  <th>C(most_ads_hour)[T.11]</th>    <td>    0.0019</td> <td>    0.002</td> <td>    1.023</td> <td> 0.306</td> <td>   -0.002</td> <td>    0.006</td>\n",
       "</tr>\n",
       "<tr>\n",
       "  <th>C(most_ads_hour)[T.12]</th>    <td>    0.0027</td> <td>    0.002</td> <td>    1.421</td> <td> 0.155</td> <td>   -0.001</td> <td>    0.006</td>\n",
       "</tr>\n",
       "<tr>\n",
       "  <th>C(most_ads_hour)[T.13]</th>    <td>    0.0041</td> <td>    0.002</td> <td>    2.129</td> <td> 0.033</td> <td>    0.000</td> <td>    0.008</td>\n",
       "</tr>\n",
       "<tr>\n",
       "  <th>C(most_ads_hour)[T.14]</th>    <td>    0.0085</td> <td>    0.002</td> <td>    4.398</td> <td> 0.000</td> <td>    0.005</td> <td>    0.012</td>\n",
       "</tr>\n",
       "<tr>\n",
       "  <th>C(most_ads_hour)[T.15]</th>    <td>    0.0092</td> <td>    0.002</td> <td>    4.762</td> <td> 0.000</td> <td>    0.005</td> <td>    0.013</td>\n",
       "</tr>\n",
       "<tr>\n",
       "  <th>C(most_ads_hour)[T.16]</th>    <td>    0.0128</td> <td>    0.002</td> <td>    6.492</td> <td> 0.000</td> <td>    0.009</td> <td>    0.017</td>\n",
       "</tr>\n",
       "<tr>\n",
       "  <th>C(most_ads_hour)[T.17]</th>    <td>    0.0086</td> <td>    0.002</td> <td>    4.374</td> <td> 0.000</td> <td>    0.005</td> <td>    0.013</td>\n",
       "</tr>\n",
       "<tr>\n",
       "  <th>C(most_ads_hour)[T.18]</th>    <td>    0.0068</td> <td>    0.002</td> <td>    3.448</td> <td> 0.001</td> <td>    0.003</td> <td>    0.011</td>\n",
       "</tr>\n",
       "<tr>\n",
       "  <th>C(most_ads_hour)[T.19]</th>    <td>    0.0063</td> <td>    0.002</td> <td>    3.178</td> <td> 0.001</td> <td>    0.002</td> <td>    0.010</td>\n",
       "</tr>\n",
       "<tr>\n",
       "  <th>C(most_ads_hour)[T.20]</th>    <td>    0.0087</td> <td>    0.002</td> <td>    4.273</td> <td> 0.000</td> <td>    0.005</td> <td>    0.013</td>\n",
       "</tr>\n",
       "<tr>\n",
       "  <th>C(most_ads_hour)[T.21]</th>    <td>    0.0085</td> <td>    0.002</td> <td>    4.221</td> <td> 0.000</td> <td>    0.005</td> <td>    0.012</td>\n",
       "</tr>\n",
       "<tr>\n",
       "  <th>C(most_ads_hour)[T.22]</th>    <td>    0.0079</td> <td>    0.002</td> <td>    3.900</td> <td> 0.000</td> <td>    0.004</td> <td>    0.012</td>\n",
       "</tr>\n",
       "<tr>\n",
       "  <th>C(most_ads_hour)[T.23]</th>    <td>    0.0068</td> <td>    0.002</td> <td>    3.330</td> <td> 0.001</td> <td>    0.003</td> <td>    0.011</td>\n",
       "</tr>\n",
       "<tr>\n",
       "  <th>treatment</th>                 <td>    0.0076</td> <td>    0.001</td> <td>    8.711</td> <td> 0.000</td> <td>    0.006</td> <td>    0.009</td>\n",
       "</tr>\n",
       "<tr>\n",
       "  <th>total_ads</th>                 <td>    0.0008</td> <td> 1.29e-05</td> <td>   60.797</td> <td> 0.000</td> <td>    0.001</td> <td>    0.001</td>\n",
       "</tr>\n",
       "</table>"
      ],
      "text/latex": [
       "\\begin{center}\n",
       "\\begin{tabular}{lcccccc}\n",
       "\\toprule\n",
       "                                     & \\textbf{coef} & \\textbf{std err} & \\textbf{z} & \\textbf{P$> |$z$|$} & \\textbf{[0.025} & \\textbf{0.975]}  \\\\\n",
       "\\midrule\n",
       "\\textbf{Intercept}                   &      -0.0112  &        0.002     &    -5.563  &         0.000        &       -0.015    &       -0.007     \\\\\n",
       "\\textbf{most\\_ads\\_day[T.Monday]}    &       0.0115  &        0.001     &    15.185  &         0.000        &        0.010    &        0.013     \\\\\n",
       "\\textbf{most\\_ads\\_day[T.Saturday]}  &      -0.0002  &        0.001     &    -0.298  &         0.766        &       -0.002    &        0.001     \\\\\n",
       "\\textbf{most\\_ads\\_day[T.Sunday]}    &       0.0040  &        0.001     &     5.684  &         0.000        &        0.003    &        0.005     \\\\\n",
       "\\textbf{most\\_ads\\_day[T.Thursday]}  &       0.0019  &        0.001     &     2.737  &         0.006        &        0.001    &        0.003     \\\\\n",
       "\\textbf{most\\_ads\\_day[T.Tuesday]}   &       0.0100  &        0.001     &    13.159  &         0.000        &        0.009    &        0.012     \\\\\n",
       "\\textbf{most\\_ads\\_day[T.Wednesday]} &       0.0047  &        0.001     &     6.485  &         0.000        &        0.003    &        0.006     \\\\\n",
       "\\textbf{C(most\\_ads\\_hour)[T.1]}     &      -0.0070  &        0.002     &    -2.906  &         0.004        &       -0.012    &       -0.002     \\\\\n",
       "\\textbf{C(most\\_ads\\_hour)[T.2]}     &      -0.0125  &        0.002     &    -5.823  &         0.000        &       -0.017    &       -0.008     \\\\\n",
       "\\textbf{C(most\\_ads\\_hour)[T.3]}     &      -0.0075  &        0.003     &    -2.831  &         0.005        &       -0.013    &       -0.002     \\\\\n",
       "\\textbf{C(most\\_ads\\_hour)[T.4]}     &      -0.0114  &        0.005     &    -2.230  &         0.026        &       -0.021    &       -0.001     \\\\\n",
       "\\textbf{C(most\\_ads\\_hour)[T.5]}     &      -0.0135  &        0.006     &    -2.391  &         0.017        &       -0.025    &       -0.002     \\\\\n",
       "\\textbf{C(most\\_ads\\_hour)[T.6]}     &      -0.0108  &        0.004     &    -2.879  &         0.004        &       -0.018    &       -0.003     \\\\\n",
       "\\textbf{C(most\\_ads\\_hour)[T.7]}     &      -0.0066  &        0.002     &    -2.696  &         0.007        &       -0.011    &       -0.002     \\\\\n",
       "\\textbf{C(most\\_ads\\_hour)[T.8]}     &    4.343e-05  &        0.002     &     0.021  &         0.983        &       -0.004    &        0.004     \\\\\n",
       "\\textbf{C(most\\_ads\\_hour)[T.9]}     &    4.626e-05  &        0.002     &     0.024  &         0.981        &       -0.004    &        0.004     \\\\\n",
       "\\textbf{C(most\\_ads\\_hour)[T.10]}    &       0.0010  &        0.002     &     0.529  &         0.597        &       -0.003    &        0.005     \\\\\n",
       "\\textbf{C(most\\_ads\\_hour)[T.11]}    &       0.0019  &        0.002     &     1.023  &         0.306        &       -0.002    &        0.006     \\\\\n",
       "\\textbf{C(most\\_ads\\_hour)[T.12]}    &       0.0027  &        0.002     &     1.421  &         0.155        &       -0.001    &        0.006     \\\\\n",
       "\\textbf{C(most\\_ads\\_hour)[T.13]}    &       0.0041  &        0.002     &     2.129  &         0.033        &        0.000    &        0.008     \\\\\n",
       "\\textbf{C(most\\_ads\\_hour)[T.14]}    &       0.0085  &        0.002     &     4.398  &         0.000        &        0.005    &        0.012     \\\\\n",
       "\\textbf{C(most\\_ads\\_hour)[T.15]}    &       0.0092  &        0.002     &     4.762  &         0.000        &        0.005    &        0.013     \\\\\n",
       "\\textbf{C(most\\_ads\\_hour)[T.16]}    &       0.0128  &        0.002     &     6.492  &         0.000        &        0.009    &        0.017     \\\\\n",
       "\\textbf{C(most\\_ads\\_hour)[T.17]}    &       0.0086  &        0.002     &     4.374  &         0.000        &        0.005    &        0.013     \\\\\n",
       "\\textbf{C(most\\_ads\\_hour)[T.18]}    &       0.0068  &        0.002     &     3.448  &         0.001        &        0.003    &        0.011     \\\\\n",
       "\\textbf{C(most\\_ads\\_hour)[T.19]}    &       0.0063  &        0.002     &     3.178  &         0.001        &        0.002    &        0.010     \\\\\n",
       "\\textbf{C(most\\_ads\\_hour)[T.20]}    &       0.0087  &        0.002     &     4.273  &         0.000        &        0.005    &        0.013     \\\\\n",
       "\\textbf{C(most\\_ads\\_hour)[T.21]}    &       0.0085  &        0.002     &     4.221  &         0.000        &        0.005    &        0.012     \\\\\n",
       "\\textbf{C(most\\_ads\\_hour)[T.22]}    &       0.0079  &        0.002     &     3.900  &         0.000        &        0.004    &        0.012     \\\\\n",
       "\\textbf{C(most\\_ads\\_hour)[T.23]}    &       0.0068  &        0.002     &     3.330  &         0.001        &        0.003    &        0.011     \\\\\n",
       "\\textbf{treatment}                   &       0.0076  &        0.001     &     8.711  &         0.000        &        0.006    &        0.009     \\\\\n",
       "\\textbf{total\\_ads}                  &       0.0008  &     1.29e-05     &    60.797  &         0.000        &        0.001    &        0.001     \\\\\n",
       "\\bottomrule\n",
       "\\end{tabular}\n",
       "\\end{center}"
      ],
      "text/plain": [
       "<class 'statsmodels.iolib.table.SimpleTable'>"
      ]
     },
     "execution_count": 5,
     "metadata": {},
     "output_type": "execute_result"
    }
   ],
   "source": [
    "model_add = ('converted ~ treatment + total_ads + most_ads_day + C(most_ads_hour)')\n",
    "add = smf.ols(model_add, data=df)\n",
    "results_add = add.fit(cov_type='HC1')\n",
    "results_add.summary().tables[1]"
   ]
  },
  {
   "cell_type": "code",
   "execution_count": 6,
   "metadata": {},
   "outputs": [
    {
     "name": "stdout",
     "output_type": "stream",
     "text": [
      "The effect of the treatment is: 0.76%\n",
      "Standard error: 0.087%\n",
      "Confidence interval: 0.59% - 0.93%\n"
     ]
    }
   ],
   "source": [
    "add_est = results_add.params['treatment']\n",
    "add_se = results_add.bse['treatment']\n",
    "add_ci = results_add.conf_int().loc['treatment']\n",
    "print(f\"The effect of the treatment is: {add_est*100:.2f}%\")\n",
    "print(f\"Standard error: {add_se*100:.3f}%\")\n",
    "print(f\"Confidence interval: {add_ci[0]*100:.2f}% - {add_ci[1]*100:.2f}%\")"
   ]
  },
  {
   "cell_type": "markdown",
   "metadata": {},
   "source": [
    "## Interactive Regression Model\n",
    "\n",
    "$$\n",
    "\\text{converted} = \\beta_0 + \\beta_1 \\times \\text{treatment} + \\beta_2 \\times \\text{treatment} \\times \\text{total ads} + \\beta_3 \\times \\text{treatment} \\times \\text{most ads day} + \\beta_4 \\times \\text{treatment} \\times \\text{most ads hour} + \\epsilon\n",
    "$$"
   ]
  },
  {
   "cell_type": "code",
   "execution_count": 7,
   "metadata": {},
   "outputs": [],
   "source": [
    "# Demean covariates\n",
    "formula = ('0 ~ total_ads + most_ads_day + C(most_ads_hour)')\n",
    "X = patsy.dmatrix(formula, df, return_type='dataframe')\n",
    "X = X.drop('Intercept', axis=1)\n",
    "X.columns = [f'x{t}' for t in range(X.shape[1])] # clean column names\n",
    "X = (X - X.mean(axis=0))\n",
    "\n",
    "# Construct interactions\n",
    "formula = \"treatment * (\" + \"+\".join(X.columns) + \")\"\n",
    "X['treatment'] = df['treatment']\n",
    "X = patsy.dmatrix(formula, X, return_type='dataframe')\n",
    "int = sm.OLS(df[['converted']], X)\n",
    "results_int = int.fit(cov_type='HC1')\n",
    "# results_int.summary().tables[1]"
   ]
  },
  {
   "cell_type": "code",
   "execution_count": 8,
   "metadata": {},
   "outputs": [
    {
     "name": "stdout",
     "output_type": "stream",
     "text": [
      "The effect of the treatment is: 0.78%\n",
      "Standard error: 0.087%\n",
      "Confidence interval: 0.61% - 0.95%\n"
     ]
    }
   ],
   "source": [
    "int_est = results_int.params['treatment']\n",
    "int_se = results_int.bse['treatment']\n",
    "int_ci = results_int.conf_int().loc['treatment']\n",
    "print(f\"The effect of the treatment is: {int_est*100:.2f}%\")\n",
    "print(f\"Standard error: {int_se*100:.3f}%\")\n",
    "print(f\"Confidence interval: {int_ci[0]*100:.2f}% - {int_ci[1]*100:.2f}%\")"
   ]
  },
  {
   "cell_type": "markdown",
   "metadata": {},
   "source": [
    "## Fully Interactive Regression Model"
   ]
  },
  {
   "cell_type": "code",
   "execution_count": 9,
   "metadata": {},
   "outputs": [],
   "source": [
    "# Demean covariates\n",
    "formula = ('0 ~ (total_ads + most_ads_day + C(most_ads_hour))**2')\n",
    "X = patsy.dmatrix(formula, df, return_type='dataframe')\n",
    "X = X.drop('Intercept', axis=1)\n",
    "X.columns = [f'x{t}' for t in range(X.shape[1])] # clean column names\n",
    "X = (X - X.mean(axis=0)) # demean all control covariates\n",
    "\n",
    "# Construct interactions\n",
    "formula = \"treatment * (\"+ \"+\".join(X.columns) + \")\"\n",
    "X['treatment'] = df['treatment']\n",
    "X = patsy.dmatrix(formula, X, return_type='dataframe')\n",
    "full = sm.OLS(df[['converted']], X)\n",
    "results_full = full.fit(cov_type='HC1')\n",
    "# results_full.summary().tables[1]"
   ]
  },
  {
   "cell_type": "code",
   "execution_count": 10,
   "metadata": {},
   "outputs": [
    {
     "name": "stdout",
     "output_type": "stream",
     "text": [
      "The effect of the treatment is: 0.78%\n",
      "Standard error: 0.088%\n",
      "Confidence interval: 0.60% - 0.95%\n"
     ]
    }
   ],
   "source": [
    "full_est = results_full.params['treatment']\n",
    "full_se = results_full.bse['treatment']\n",
    "full_ci = results_full.conf_int().loc['treatment']\n",
    "print(f\"The effect of the treatment is: {full_est*100:.2f}%\")\n",
    "print(f\"Standard error: {full_se*100:.3f}%\")\n",
    "print(f\"Confidence interval: {full_ci[0]*100:.2f}% - {full_ci[1]*100:.2f}%\")"
   ]
  },
  {
   "cell_type": "code",
   "execution_count": 11,
   "metadata": {},
   "outputs": [
    {
     "name": "stdout",
     "output_type": "stream",
     "text": [
      "There are 396 covariates in the model.\n"
     ]
    }
   ],
   "source": [
    "print(f\"There are {X.shape[1]} covariates in the model.\")"
   ]
  },
  {
   "cell_type": "code",
   "execution_count": null,
   "metadata": {},
   "outputs": [],
   "source": []
  }
 ],
 "metadata": {
  "kernelspec": {
   "display_name": "causalML",
   "language": "python",
   "name": "python3"
  },
  "language_info": {
   "codemirror_mode": {
    "name": "ipython",
    "version": 3
   },
   "file_extension": ".py",
   "mimetype": "text/x-python",
   "name": "python",
   "nbconvert_exporter": "python",
   "pygments_lexer": "ipython3",
   "version": "3.9.18"
  }
 },
 "nbformat": 4,
 "nbformat_minor": 2
}
