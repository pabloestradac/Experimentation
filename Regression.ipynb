{
 "cells": [
  {
   "cell_type": "markdown",
   "metadata": {},
   "source": [
    "# Regression in Payments A/B Testing\n",
    "\n",
    "This case study is taken from this [GitHub Repository](https://github.com/matheusfacure/python-causality-handbook/tree/master).\n",
    "\n",
    "The task is to determine the impact of sending an email that invites people to negotiate their debt. The outcome of interest is the amount of payments made by late customers.\n",
    "\n",
    "After following steps 1 - 4 from the previous notebook on A/B tests, the data sciente team randomly selects 5,000 customers from your pool of late customers to conduct a randomized test. \n",
    "\n",
    "Each customer randomly receives the email or is placed in the control group. The goal is to discover how much additional money the email generates.\n",
    "\n",
    "**Data dictionary:**\n",
    "\n",
    "- payments: amount of payments made by the customer\n",
    "- email: whether the customer received the email (1) or not (0)\n",
    "- opened: whether the customer opened the email (1) or not (0)\n",
    "- agreement: whether the customer contacted the collections department to negotiate the debt (1) or not (0), after receiving the email\n",
    "- credit_limit: the customer's credit line prior to getting late\n",
    "- risk_score: estimated risk score of the customer prior to receiving the email"
   ]
  },
  {
   "cell_type": "code",
   "execution_count": 1,
   "metadata": {},
   "outputs": [],
   "source": [
    "import pandas as pd\n",
    "import statsmodels.formula.api as smf\n",
    "import scipy.stats as stats"
   ]
  },
  {
   "cell_type": "markdown",
   "metadata": {},
   "source": [
    "## Check the data"
   ]
  },
  {
   "cell_type": "code",
   "execution_count": 2,
   "metadata": {},
   "outputs": [
    {
     "data": {
      "text/html": [
       "<div>\n",
       "<style scoped>\n",
       "    .dataframe tbody tr th:only-of-type {\n",
       "        vertical-align: middle;\n",
       "    }\n",
       "\n",
       "    .dataframe tbody tr th {\n",
       "        vertical-align: top;\n",
       "    }\n",
       "\n",
       "    .dataframe thead th {\n",
       "        text-align: right;\n",
       "    }\n",
       "</style>\n",
       "<table border=\"1\" class=\"dataframe\">\n",
       "  <thead>\n",
       "    <tr style=\"text-align: right;\">\n",
       "      <th></th>\n",
       "      <th>payments</th>\n",
       "      <th>email</th>\n",
       "      <th>opened</th>\n",
       "      <th>agreement</th>\n",
       "      <th>credit_limit</th>\n",
       "      <th>risk_score</th>\n",
       "    </tr>\n",
       "  </thead>\n",
       "  <tbody>\n",
       "    <tr>\n",
       "      <th>0</th>\n",
       "      <td>740</td>\n",
       "      <td>1</td>\n",
       "      <td>1.0</td>\n",
       "      <td>0.0</td>\n",
       "      <td>2348.495260</td>\n",
       "      <td>0.666752</td>\n",
       "    </tr>\n",
       "    <tr>\n",
       "      <th>1</th>\n",
       "      <td>580</td>\n",
       "      <td>1</td>\n",
       "      <td>1.0</td>\n",
       "      <td>1.0</td>\n",
       "      <td>334.111969</td>\n",
       "      <td>0.207395</td>\n",
       "    </tr>\n",
       "    <tr>\n",
       "      <th>2</th>\n",
       "      <td>600</td>\n",
       "      <td>1</td>\n",
       "      <td>1.0</td>\n",
       "      <td>1.0</td>\n",
       "      <td>1360.660722</td>\n",
       "      <td>0.550479</td>\n",
       "    </tr>\n",
       "    <tr>\n",
       "      <th>3</th>\n",
       "      <td>770</td>\n",
       "      <td>0</td>\n",
       "      <td>0.0</td>\n",
       "      <td>0.0</td>\n",
       "      <td>1531.828576</td>\n",
       "      <td>0.560488</td>\n",
       "    </tr>\n",
       "    <tr>\n",
       "      <th>4</th>\n",
       "      <td>660</td>\n",
       "      <td>0</td>\n",
       "      <td>0.0</td>\n",
       "      <td>0.0</td>\n",
       "      <td>979.855647</td>\n",
       "      <td>0.455140</td>\n",
       "    </tr>\n",
       "  </tbody>\n",
       "</table>\n",
       "</div>"
      ],
      "text/plain": [
       "   payments  email  opened  agreement  credit_limit  risk_score\n",
       "0       740      1     1.0        0.0   2348.495260    0.666752\n",
       "1       580      1     1.0        1.0    334.111969    0.207395\n",
       "2       600      1     1.0        1.0   1360.660722    0.550479\n",
       "3       770      0     0.0        0.0   1531.828576    0.560488\n",
       "4       660      0     0.0        0.0    979.855647    0.455140"
      ]
     },
     "execution_count": 2,
     "metadata": {},
     "output_type": "execute_result"
    }
   ],
   "source": [
    "# Read data\n",
    "df = pd.read_csv('data/collections_email.csv')\n",
    "df.head()"
   ]
  },
  {
   "cell_type": "code",
   "execution_count": 3,
   "metadata": {},
   "outputs": [
    {
     "data": {
      "text/html": [
       "<div>\n",
       "<style scoped>\n",
       "    .dataframe tbody tr th:only-of-type {\n",
       "        vertical-align: middle;\n",
       "    }\n",
       "\n",
       "    .dataframe tbody tr th {\n",
       "        vertical-align: top;\n",
       "    }\n",
       "\n",
       "    .dataframe thead th {\n",
       "        text-align: right;\n",
       "    }\n",
       "</style>\n",
       "<table border=\"1\" class=\"dataframe\">\n",
       "  <thead>\n",
       "    <tr style=\"text-align: right;\">\n",
       "      <th></th>\n",
       "      <th>payments</th>\n",
       "      <th>email</th>\n",
       "      <th>opened</th>\n",
       "      <th>agreement</th>\n",
       "      <th>credit_limit</th>\n",
       "      <th>risk_score</th>\n",
       "    </tr>\n",
       "  </thead>\n",
       "  <tbody>\n",
       "    <tr>\n",
       "      <th>count</th>\n",
       "      <td>5000.000000</td>\n",
       "      <td>5000.000000</td>\n",
       "      <td>5000.000000</td>\n",
       "      <td>5000.000000</td>\n",
       "      <td>5000.000000</td>\n",
       "      <td>5000.000000</td>\n",
       "    </tr>\n",
       "    <tr>\n",
       "      <th>mean</th>\n",
       "      <td>669.672000</td>\n",
       "      <td>0.490800</td>\n",
       "      <td>0.273400</td>\n",
       "      <td>0.160800</td>\n",
       "      <td>1194.845188</td>\n",
       "      <td>0.480812</td>\n",
       "    </tr>\n",
       "    <tr>\n",
       "      <th>std</th>\n",
       "      <td>103.970065</td>\n",
       "      <td>0.499965</td>\n",
       "      <td>0.445749</td>\n",
       "      <td>0.367383</td>\n",
       "      <td>480.978996</td>\n",
       "      <td>0.100376</td>\n",
       "    </tr>\n",
       "    <tr>\n",
       "      <th>min</th>\n",
       "      <td>330.000000</td>\n",
       "      <td>0.000000</td>\n",
       "      <td>0.000000</td>\n",
       "      <td>0.000000</td>\n",
       "      <td>193.695573</td>\n",
       "      <td>0.131784</td>\n",
       "    </tr>\n",
       "    <tr>\n",
       "      <th>25%</th>\n",
       "      <td>600.000000</td>\n",
       "      <td>0.000000</td>\n",
       "      <td>0.000000</td>\n",
       "      <td>0.000000</td>\n",
       "      <td>843.049867</td>\n",
       "      <td>0.414027</td>\n",
       "    </tr>\n",
       "    <tr>\n",
       "      <th>50%</th>\n",
       "      <td>670.000000</td>\n",
       "      <td>0.000000</td>\n",
       "      <td>0.000000</td>\n",
       "      <td>0.000000</td>\n",
       "      <td>1127.640297</td>\n",
       "      <td>0.486389</td>\n",
       "    </tr>\n",
       "    <tr>\n",
       "      <th>75%</th>\n",
       "      <td>730.000000</td>\n",
       "      <td>1.000000</td>\n",
       "      <td>1.000000</td>\n",
       "      <td>0.000000</td>\n",
       "      <td>1469.096523</td>\n",
       "      <td>0.552727</td>\n",
       "    </tr>\n",
       "    <tr>\n",
       "      <th>max</th>\n",
       "      <td>1140.000000</td>\n",
       "      <td>1.000000</td>\n",
       "      <td>1.000000</td>\n",
       "      <td>1.000000</td>\n",
       "      <td>3882.178408</td>\n",
       "      <td>0.773459</td>\n",
       "    </tr>\n",
       "  </tbody>\n",
       "</table>\n",
       "</div>"
      ],
      "text/plain": [
       "          payments        email       opened    agreement  credit_limit  \\\n",
       "count  5000.000000  5000.000000  5000.000000  5000.000000   5000.000000   \n",
       "mean    669.672000     0.490800     0.273400     0.160800   1194.845188   \n",
       "std     103.970065     0.499965     0.445749     0.367383    480.978996   \n",
       "min     330.000000     0.000000     0.000000     0.000000    193.695573   \n",
       "25%     600.000000     0.000000     0.000000     0.000000    843.049867   \n",
       "50%     670.000000     0.000000     0.000000     0.000000   1127.640297   \n",
       "75%     730.000000     1.000000     1.000000     0.000000   1469.096523   \n",
       "max    1140.000000     1.000000     1.000000     1.000000   3882.178408   \n",
       "\n",
       "        risk_score  \n",
       "count  5000.000000  \n",
       "mean      0.480812  \n",
       "std       0.100376  \n",
       "min       0.131784  \n",
       "25%       0.414027  \n",
       "50%       0.486389  \n",
       "75%       0.552727  \n",
       "max       0.773459  "
      ]
     },
     "execution_count": 3,
     "metadata": {},
     "output_type": "execute_result"
    }
   ],
   "source": [
    "# Descriptive Statistics\n",
    "df.describe()"
   ]
  },
  {
   "cell_type": "markdown",
   "metadata": {},
   "source": [
    "## Regression for A/B Testing\n",
    "\n",
    "What is the effect of sending an email to late customers on the amount of payments made?\n",
    "\n",
    "$$\n",
    "\\text{Payments} = \\beta_0 + \\beta_1 \\times \\text{Email} + \\epsilon\n",
    "$$"
   ]
  },
  {
   "cell_type": "code",
   "execution_count": 4,
   "metadata": {},
   "outputs": [
    {
     "data": {
      "text/html": [
       "<table class=\"simpletable\">\n",
       "<caption>OLS Regression Results</caption>\n",
       "<tr>\n",
       "  <th>Dep. Variable:</th>        <td>payments</td>     <th>  R-squared:         </th> <td>   0.000</td> \n",
       "</tr>\n",
       "<tr>\n",
       "  <th>Model:</th>                   <td>OLS</td>       <th>  Adj. R-squared:    </th> <td>  -0.000</td> \n",
       "</tr>\n",
       "<tr>\n",
       "  <th>Method:</th>             <td>Least Squares</td>  <th>  F-statistic:       </th> <td> 0.04453</td> \n",
       "</tr>\n",
       "<tr>\n",
       "  <th>Date:</th>             <td>Wed, 31 Jul 2024</td> <th>  Prob (F-statistic):</th>  <td> 0.833</td>  \n",
       "</tr>\n",
       "<tr>\n",
       "  <th>Time:</th>                 <td>18:13:43</td>     <th>  Log-Likelihood:    </th> <td> -30315.</td> \n",
       "</tr>\n",
       "<tr>\n",
       "  <th>No. Observations:</th>      <td>  5000</td>      <th>  AIC:               </th> <td>6.063e+04</td>\n",
       "</tr>\n",
       "<tr>\n",
       "  <th>Df Residuals:</th>          <td>  4998</td>      <th>  BIC:               </th> <td>6.065e+04</td>\n",
       "</tr>\n",
       "<tr>\n",
       "  <th>Df Model:</th>              <td>     1</td>      <th>                     </th>     <td> </td>    \n",
       "</tr>\n",
       "<tr>\n",
       "  <th>Covariance Type:</th>         <td>HC1</td>       <th>                     </th>     <td> </td>    \n",
       "</tr>\n",
       "</table>\n",
       "<table class=\"simpletable\">\n",
       "<tr>\n",
       "      <td></td>         <th>coef</th>     <th>std err</th>      <th>z</th>      <th>P>|z|</th>  <th>[0.025</th>    <th>0.975]</th>  \n",
       "</tr>\n",
       "<tr>\n",
       "  <th>Intercept</th> <td>  669.9764</td> <td>    2.097</td> <td>  319.515</td> <td> 0.000</td> <td>  665.867</td> <td>  674.086</td>\n",
       "</tr>\n",
       "<tr>\n",
       "  <th>email</th>     <td>   -0.6203</td> <td>    2.940</td> <td>   -0.211</td> <td> 0.833</td> <td>   -6.382</td> <td>    5.141</td>\n",
       "</tr>\n",
       "</table>\n",
       "<table class=\"simpletable\">\n",
       "<tr>\n",
       "  <th>Omnibus:</th>       <td>75.007</td> <th>  Durbin-Watson:     </th> <td>   1.991</td>\n",
       "</tr>\n",
       "<tr>\n",
       "  <th>Prob(Omnibus):</th> <td> 0.000</td> <th>  Jarque-Bera (JB):  </th> <td>  80.378</td>\n",
       "</tr>\n",
       "<tr>\n",
       "  <th>Skew:</th>          <td> 0.277</td> <th>  Prob(JB):          </th> <td>3.52e-18</td>\n",
       "</tr>\n",
       "<tr>\n",
       "  <th>Kurtosis:</th>      <td> 3.279</td> <th>  Cond. No.          </th> <td>    2.60</td>\n",
       "</tr>\n",
       "</table><br/><br/>Notes:<br/>[1] Standard Errors are heteroscedasticity robust (HC1)"
      ],
      "text/latex": [
       "\\begin{center}\n",
       "\\begin{tabular}{lclc}\n",
       "\\toprule\n",
       "\\textbf{Dep. Variable:}    &     payments     & \\textbf{  R-squared:         } &     0.000   \\\\\n",
       "\\textbf{Model:}            &       OLS        & \\textbf{  Adj. R-squared:    } &    -0.000   \\\\\n",
       "\\textbf{Method:}           &  Least Squares   & \\textbf{  F-statistic:       } &   0.04453   \\\\\n",
       "\\textbf{Date:}             & Wed, 31 Jul 2024 & \\textbf{  Prob (F-statistic):} &    0.833    \\\\\n",
       "\\textbf{Time:}             &     18:13:43     & \\textbf{  Log-Likelihood:    } &   -30315.   \\\\\n",
       "\\textbf{No. Observations:} &        5000      & \\textbf{  AIC:               } & 6.063e+04   \\\\\n",
       "\\textbf{Df Residuals:}     &        4998      & \\textbf{  BIC:               } & 6.065e+04   \\\\\n",
       "\\textbf{Df Model:}         &           1      & \\textbf{                     } &             \\\\\n",
       "\\textbf{Covariance Type:}  &       HC1        & \\textbf{                     } &             \\\\\n",
       "\\bottomrule\n",
       "\\end{tabular}\n",
       "\\begin{tabular}{lcccccc}\n",
       "                   & \\textbf{coef} & \\textbf{std err} & \\textbf{z} & \\textbf{P$> |$z$|$} & \\textbf{[0.025} & \\textbf{0.975]}  \\\\\n",
       "\\midrule\n",
       "\\textbf{Intercept} &     669.9764  &        2.097     &   319.515  &         0.000        &      665.867    &      674.086     \\\\\n",
       "\\textbf{email}     &      -0.6203  &        2.940     &    -0.211  &         0.833        &       -6.382    &        5.141     \\\\\n",
       "\\bottomrule\n",
       "\\end{tabular}\n",
       "\\begin{tabular}{lclc}\n",
       "\\textbf{Omnibus:}       & 75.007 & \\textbf{  Durbin-Watson:     } &    1.991  \\\\\n",
       "\\textbf{Prob(Omnibus):} &  0.000 & \\textbf{  Jarque-Bera (JB):  } &   80.378  \\\\\n",
       "\\textbf{Skew:}          &  0.277 & \\textbf{  Prob(JB):          } & 3.52e-18  \\\\\n",
       "\\textbf{Kurtosis:}      &  3.279 & \\textbf{  Cond. No.          } &     2.60  \\\\\n",
       "\\bottomrule\n",
       "\\end{tabular}\n",
       "%\\caption{OLS Regression Results}\n",
       "\\end{center}\n",
       "\n",
       "Notes: \\newline\n",
       " [1] Standard Errors are heteroscedasticity robust (HC1)"
      ],
      "text/plain": [
       "<class 'statsmodels.iolib.summary.Summary'>\n",
       "\"\"\"\n",
       "                            OLS Regression Results                            \n",
       "==============================================================================\n",
       "Dep. Variable:               payments   R-squared:                       0.000\n",
       "Model:                            OLS   Adj. R-squared:                 -0.000\n",
       "Method:                 Least Squares   F-statistic:                   0.04453\n",
       "Date:                Wed, 31 Jul 2024   Prob (F-statistic):              0.833\n",
       "Time:                        18:13:43   Log-Likelihood:                -30315.\n",
       "No. Observations:                5000   AIC:                         6.063e+04\n",
       "Df Residuals:                    4998   BIC:                         6.065e+04\n",
       "Df Model:                           1                                         \n",
       "Covariance Type:                  HC1                                         \n",
       "==============================================================================\n",
       "                 coef    std err          z      P>|z|      [0.025      0.975]\n",
       "------------------------------------------------------------------------------\n",
       "Intercept    669.9764      2.097    319.515      0.000     665.867     674.086\n",
       "email         -0.6203      2.940     -0.211      0.833      -6.382       5.141\n",
       "==============================================================================\n",
       "Omnibus:                       75.007   Durbin-Watson:                   1.991\n",
       "Prob(Omnibus):                  0.000   Jarque-Bera (JB):               80.378\n",
       "Skew:                           0.277   Prob(JB):                     3.52e-18\n",
       "Kurtosis:                       3.279   Cond. No.                         2.60\n",
       "==============================================================================\n",
       "\n",
       "Notes:\n",
       "[1] Standard Errors are heteroscedasticity robust (HC1)\n",
       "\"\"\""
      ]
     },
     "execution_count": 4,
     "metadata": {},
     "output_type": "execute_result"
    }
   ],
   "source": [
    "model_base = ('payments ~ email')\n",
    "base = smf.ols(model_base, data=df)\n",
    "results_base = base.fit(cov_type='HC1')\n",
    "results_base.summary()"
   ]
  },
  {
   "cell_type": "code",
   "execution_count": 5,
   "metadata": {},
   "outputs": [
    {
     "name": "stdout",
     "output_type": "stream",
     "text": [
      "The effect of the treatment is: -0.62\n",
      "Standard error: 2.9395\n",
      "Confidence interval: [-6.38, 5.14]\n"
     ]
    }
   ],
   "source": [
    "base_est = results_base.params['email']\n",
    "base_se = results_base.bse['email']\n",
    "base_ci = results_base.conf_int().loc['email']\n",
    "print(f\"The effect of the treatment is: {base_est:.2f}\")\n",
    "print(f\"Standard error: {base_se:.4f}\")\n",
    "print(f\"Confidence interval: [{base_ci[0]:.2f}, {base_ci[1]:.2f}]\")"
   ]
  },
  {
   "cell_type": "markdown",
   "metadata": {},
   "source": [
    "What can you conclude? Does sending an email increase the amount of payments made by late customers? Is this difference statistically significant?\n",
    "\n",
    "- Sending an email decreases the amount of payments made by \\$0.6 on average. However, this difference is not statistically significant."
   ]
  },
  {
   "cell_type": "markdown",
   "metadata": {},
   "source": [
    "## Comparing the groups\n",
    "\n",
    "Are the groups similar in terms of credit limit and risk score?"
   ]
  },
  {
   "cell_type": "code",
   "execution_count": 6,
   "metadata": {},
   "outputs": [
    {
     "data": {
      "text/html": [
       "<div>\n",
       "<style scoped>\n",
       "    .dataframe tbody tr th:only-of-type {\n",
       "        vertical-align: middle;\n",
       "    }\n",
       "\n",
       "    .dataframe tbody tr th {\n",
       "        vertical-align: top;\n",
       "    }\n",
       "\n",
       "    .dataframe thead tr th {\n",
       "        text-align: left;\n",
       "    }\n",
       "\n",
       "    .dataframe thead tr:last-of-type th {\n",
       "        text-align: right;\n",
       "    }\n",
       "</style>\n",
       "<table border=\"1\" class=\"dataframe\">\n",
       "  <thead>\n",
       "    <tr>\n",
       "      <th></th>\n",
       "      <th></th>\n",
       "      <th colspan=\"2\" halign=\"left\">payments</th>\n",
       "      <th>diff</th>\n",
       "    </tr>\n",
       "    <tr>\n",
       "      <th></th>\n",
       "      <th>email</th>\n",
       "      <th>0</th>\n",
       "      <th>1</th>\n",
       "      <th></th>\n",
       "    </tr>\n",
       "    <tr>\n",
       "      <th>high_risk</th>\n",
       "      <th>high_credit</th>\n",
       "      <th></th>\n",
       "      <th></th>\n",
       "      <th></th>\n",
       "    </tr>\n",
       "  </thead>\n",
       "  <tbody>\n",
       "    <tr>\n",
       "      <th rowspan=\"2\" valign=\"top\">False</th>\n",
       "      <th>False</th>\n",
       "      <td>612</td>\n",
       "      <td>621</td>\n",
       "      <td>9</td>\n",
       "    </tr>\n",
       "    <tr>\n",
       "      <th>True</th>\n",
       "      <td>679</td>\n",
       "      <td>694</td>\n",
       "      <td>15</td>\n",
       "    </tr>\n",
       "    <tr>\n",
       "      <th rowspan=\"2\" valign=\"top\">True</th>\n",
       "      <th>False</th>\n",
       "      <td>656</td>\n",
       "      <td>660</td>\n",
       "      <td>4</td>\n",
       "    </tr>\n",
       "    <tr>\n",
       "      <th>True</th>\n",
       "      <td>739</td>\n",
       "      <td>734</td>\n",
       "      <td>-5</td>\n",
       "    </tr>\n",
       "  </tbody>\n",
       "</table>\n",
       "</div>"
      ],
      "text/plain": [
       "                      payments      diff\n",
       "email                        0    1     \n",
       "high_risk high_credit                   \n",
       "False     False            612  621    9\n",
       "          True             679  694   15\n",
       "True      False            656  660    4\n",
       "          True             739  734   -5"
      ]
     },
     "execution_count": 6,
     "metadata": {},
     "output_type": "execute_result"
    }
   ],
   "source": [
    "df['high_risk'] = df['risk_score'] > 0.5\n",
    "df['high_credit'] = df['credit_limit'] > 1200\n",
    "payment_grouped = df.groupby(['high_risk', 'high_credit', 'email']).agg({'payments': 'mean'}).unstack()\n",
    "payment_grouped['diff'] = payment_grouped['payments'][1] - payment_grouped['payments'][0]\n",
    "payment_grouped.round(0).astype(int)"
   ]
  },
  {
   "cell_type": "code",
   "execution_count": 7,
   "metadata": {},
   "outputs": [
    {
     "name": "stdout",
     "output_type": "stream",
     "text": [
      "t-statistic: -3.2049 with p-value: 0.0014\n"
     ]
    }
   ],
   "source": [
    "# Compare the average payments between treatment and control groups for low-risk customers\n",
    "t_results = stats.ttest_ind(df.loc[(df.high_risk == False) & (df.email == 0), 'payments'],\n",
    "                            df.loc[(df.high_risk == False) & (df.email == 1), 'payments'])\n",
    "print(f\"t-statistic: {t_results.statistic:.4f} with p-value: {t_results.pvalue:.4f}\")"
   ]
  },
  {
   "cell_type": "code",
   "execution_count": 8,
   "metadata": {},
   "outputs": [
    {
     "name": "stdout",
     "output_type": "stream",
     "text": [
      "t-statistic: -2.9775 with p-value: 0.0029\n"
     ]
    }
   ],
   "source": [
    "# Compare the average payments between treatment and control groups for low-credit customers\n",
    "t_results = stats.ttest_ind(df.loc[(df.high_credit == False) & (df.email == 0), 'payments'],\n",
    "                            df.loc[(df.high_credit == False) & (df.email == 1), 'payments'])\n",
    "print(f\"t-statistic: {t_results.statistic:.4f} with p-value: {t_results.pvalue:.4f}\")"
   ]
  },
  {
   "cell_type": "code",
   "execution_count": 9,
   "metadata": {},
   "outputs": [
    {
     "data": {
      "text/html": [
       "<table class=\"simpletable\">\n",
       "<tr>\n",
       "          <td></td>             <th>coef</th>     <th>std err</th>      <th>z</th>      <th>P>|z|</th>  <th>[0.025</th>    <th>0.975]</th>  \n",
       "</tr>\n",
       "<tr>\n",
       "  <th>Intercept</th>         <td>    0.5061</td> <td>    0.009</td> <td>   53.308</td> <td> 0.000</td> <td>    0.488</td> <td>    0.525</td>\n",
       "</tr>\n",
       "<tr>\n",
       "  <th>high_risk[T.True]</th> <td>   -0.0344</td> <td>    0.014</td> <td>   -2.422</td> <td> 0.015</td> <td>   -0.062</td> <td>   -0.007</td>\n",
       "</tr>\n",
       "</table>"
      ],
      "text/latex": [
       "\\begin{center}\n",
       "\\begin{tabular}{lcccccc}\n",
       "\\toprule\n",
       "                            & \\textbf{coef} & \\textbf{std err} & \\textbf{z} & \\textbf{P$> |$z$|$} & \\textbf{[0.025} & \\textbf{0.975]}  \\\\\n",
       "\\midrule\n",
       "\\textbf{Intercept}          &       0.5061  &        0.009     &    53.308  &         0.000        &        0.488    &        0.525     \\\\\n",
       "\\textbf{high\\_risk[T.True]} &      -0.0344  &        0.014     &    -2.422  &         0.015        &       -0.062    &       -0.007     \\\\\n",
       "\\bottomrule\n",
       "\\end{tabular}\n",
       "\\end{center}"
      ],
      "text/plain": [
       "<class 'statsmodels.iolib.table.SimpleTable'>"
      ]
     },
     "execution_count": 9,
     "metadata": {},
     "output_type": "execute_result"
    }
   ],
   "source": [
    "# The same as before but better\n",
    "model_base = ('email ~ high_risk')\n",
    "base = smf.ols(model_base, data=df)\n",
    "results_base = base.fit(cov_type='HC1')\n",
    "results_base.summary().tables[1]"
   ]
  },
  {
   "cell_type": "code",
   "execution_count": 10,
   "metadata": {},
   "outputs": [
    {
     "data": {
      "text/html": [
       "<table class=\"simpletable\">\n",
       "<tr>\n",
       "           <td></td>              <th>coef</th>     <th>std err</th>      <th>z</th>      <th>P>|z|</th>  <th>[0.025</th>    <th>0.975]</th>  \n",
       "</tr>\n",
       "<tr>\n",
       "  <th>Intercept</th>           <td>    0.5047</td> <td>    0.009</td> <td>   53.286</td> <td> 0.000</td> <td>    0.486</td> <td>    0.523</td>\n",
       "</tr>\n",
       "<tr>\n",
       "  <th>high_credit[T.True]</th> <td>   -0.0313</td> <td>    0.014</td> <td>   -2.202</td> <td> 0.028</td> <td>   -0.059</td> <td>   -0.003</td>\n",
       "</tr>\n",
       "</table>"
      ],
      "text/latex": [
       "\\begin{center}\n",
       "\\begin{tabular}{lcccccc}\n",
       "\\toprule\n",
       "                              & \\textbf{coef} & \\textbf{std err} & \\textbf{z} & \\textbf{P$> |$z$|$} & \\textbf{[0.025} & \\textbf{0.975]}  \\\\\n",
       "\\midrule\n",
       "\\textbf{Intercept}            &       0.5047  &        0.009     &    53.286  &         0.000        &        0.486    &        0.523     \\\\\n",
       "\\textbf{high\\_credit[T.True]} &      -0.0313  &        0.014     &    -2.202  &         0.028        &       -0.059    &       -0.003     \\\\\n",
       "\\bottomrule\n",
       "\\end{tabular}\n",
       "\\end{center}"
      ],
      "text/plain": [
       "<class 'statsmodels.iolib.table.SimpleTable'>"
      ]
     },
     "execution_count": 10,
     "metadata": {},
     "output_type": "execute_result"
    }
   ],
   "source": [
    "# The same as before but better\n",
    "model_base = ('email ~ high_credit')\n",
    "base = smf.ols(model_base, data=df)\n",
    "results_base = base.fit(cov_type='HC1')\n",
    "results_base.summary().tables[1]"
   ]
  },
  {
   "cell_type": "markdown",
   "metadata": {},
   "source": [
    "If a variable is a good predictor of the outcome, it will explain away a lot of its variance.\n",
    "\n",
    "If risk score and credit limit are strong predictors of payment behavior, controlling for them can help isolate the effect of the email on payments. \n",
    "\n",
    "Therefore, if we compare customers with similar risk and credit limits, the variation in payment amounts should be reduced. \n",
    "\n",
    "In other words, if risk and credit limit accurately predict payment levels, customers with similar risk and credit limits will have more consistent payment behaviors, resulting in less variability."
   ]
  },
  {
   "cell_type": "code",
   "execution_count": 11,
   "metadata": {},
   "outputs": [
    {
     "data": {
      "text/html": [
       "<table class=\"simpletable\">\n",
       "<tr>\n",
       "        <td></td>          <th>coef</th>     <th>std err</th>      <th>z</th>      <th>P>|z|</th>  <th>[0.025</th>    <th>0.975]</th>  \n",
       "</tr>\n",
       "<tr>\n",
       "  <th>Intercept</th>    <td>  490.8653</td> <td>   10.196</td> <td>   48.141</td> <td> 0.000</td> <td>  470.881</td> <td>  510.850</td>\n",
       "</tr>\n",
       "<tr>\n",
       "  <th>email</th>        <td>    4.4304</td> <td>    2.126</td> <td>    2.084</td> <td> 0.037</td> <td>    0.263</td> <td>    8.598</td>\n",
       "</tr>\n",
       "<tr>\n",
       "  <th>risk_score</th>   <td>   -8.0516</td> <td>   40.488</td> <td>   -0.199</td> <td> 0.842</td> <td>  -87.406</td> <td>   71.303</td>\n",
       "</tr>\n",
       "<tr>\n",
       "  <th>credit_limit</th> <td>    0.1511</td> <td>    0.008</td> <td>   17.792</td> <td> 0.000</td> <td>    0.134</td> <td>    0.168</td>\n",
       "</tr>\n",
       "</table>"
      ],
      "text/latex": [
       "\\begin{center}\n",
       "\\begin{tabular}{lcccccc}\n",
       "\\toprule\n",
       "                       & \\textbf{coef} & \\textbf{std err} & \\textbf{z} & \\textbf{P$> |$z$|$} & \\textbf{[0.025} & \\textbf{0.975]}  \\\\\n",
       "\\midrule\n",
       "\\textbf{Intercept}     &     490.8653  &       10.196     &    48.141  &         0.000        &      470.881    &      510.850     \\\\\n",
       "\\textbf{email}         &       4.4304  &        2.126     &     2.084  &         0.037        &        0.263    &        8.598     \\\\\n",
       "\\textbf{risk\\_score}   &      -8.0516  &       40.488     &    -0.199  &         0.842        &      -87.406    &       71.303     \\\\\n",
       "\\textbf{credit\\_limit} &       0.1511  &        0.008     &    17.792  &         0.000        &        0.134    &        0.168     \\\\\n",
       "\\bottomrule\n",
       "\\end{tabular}\n",
       "\\end{center}"
      ],
      "text/plain": [
       "<class 'statsmodels.iolib.table.SimpleTable'>"
      ]
     },
     "execution_count": 11,
     "metadata": {},
     "output_type": "execute_result"
    }
   ],
   "source": [
    "model_add = ('payments ~ email + risk_score + credit_limit')\n",
    "add = smf.ols(model_add, data=df)\n",
    "results_add = add.fit(cov_type='HC1')\n",
    "results_add.summary().tables[1]"
   ]
  },
  {
   "cell_type": "code",
   "execution_count": 12,
   "metadata": {},
   "outputs": [
    {
     "name": "stdout",
     "output_type": "stream",
     "text": [
      "The effect of the treatment is: 4.43\n",
      "Standard error: 2.1264\n",
      "Confidence interval: [0.26, 8.60]\n"
     ]
    }
   ],
   "source": [
    "add_est = results_add.params['email']\n",
    "add_se = results_add.bse['email']\n",
    "add_ci = results_add.conf_int().loc['email']\n",
    "print(f\"The effect of the treatment is: {add_est:.2f}\")\n",
    "print(f\"Standard error: {add_se:.4f}\")\n",
    "print(f\"Confidence interval: [{add_ci[0]:.2f}, {add_ci[1]:.2f}]\")"
   ]
  },
  {
   "cell_type": "code",
   "execution_count": 13,
   "metadata": {},
   "outputs": [
    {
     "data": {
      "text/html": [
       "<table class=\"simpletable\">\n",
       "<tr>\n",
       "          <td></td>            <th>coef</th>     <th>std err</th>      <th>z</th>      <th>P>|z|</th>  <th>[0.025</th>    <th>0.975]</th>  \n",
       "</tr>\n",
       "<tr>\n",
       "  <th>Intercept</th>        <td>  667.5222</td> <td>    1.487</td> <td>  448.838</td> <td> 0.000</td> <td>  664.607</td> <td>  670.437</td>\n",
       "</tr>\n",
       "<tr>\n",
       "  <th>email</th>            <td>    4.4361</td> <td>    2.127</td> <td>    2.085</td> <td> 0.037</td> <td>    0.267</td> <td>    8.606</td>\n",
       "</tr>\n",
       "<tr>\n",
       "  <th>risk_dmn</th>         <td>    8.4719</td> <td>   56.463</td> <td>    0.150</td> <td> 0.881</td> <td> -102.193</td> <td>  119.137</td>\n",
       "</tr>\n",
       "<tr>\n",
       "  <th>credit_dmn</th>       <td>    0.1474</td> <td>    0.012</td> <td>   12.369</td> <td> 0.000</td> <td>    0.124</td> <td>    0.171</td>\n",
       "</tr>\n",
       "<tr>\n",
       "  <th>email:risk_dmn</th>   <td>  -35.7283</td> <td>   80.615</td> <td>   -0.443</td> <td> 0.658</td> <td> -193.730</td> <td>  122.273</td>\n",
       "</tr>\n",
       "<tr>\n",
       "  <th>email:credit_dmn</th> <td>    0.0080</td> <td>    0.017</td> <td>    0.475</td> <td> 0.635</td> <td>   -0.025</td> <td>    0.041</td>\n",
       "</tr>\n",
       "</table>"
      ],
      "text/latex": [
       "\\begin{center}\n",
       "\\begin{tabular}{lcccccc}\n",
       "\\toprule\n",
       "                           & \\textbf{coef} & \\textbf{std err} & \\textbf{z} & \\textbf{P$> |$z$|$} & \\textbf{[0.025} & \\textbf{0.975]}  \\\\\n",
       "\\midrule\n",
       "\\textbf{Intercept}         &     667.5222  &        1.487     &   448.838  &         0.000        &      664.607    &      670.437     \\\\\n",
       "\\textbf{email}             &       4.4361  &        2.127     &     2.085  &         0.037        &        0.267    &        8.606     \\\\\n",
       "\\textbf{risk\\_dmn}         &       8.4719  &       56.463     &     0.150  &         0.881        &     -102.193    &      119.137     \\\\\n",
       "\\textbf{credit\\_dmn}       &       0.1474  &        0.012     &    12.369  &         0.000        &        0.124    &        0.171     \\\\\n",
       "\\textbf{email:risk\\_dmn}   &     -35.7283  &       80.615     &    -0.443  &         0.658        &     -193.730    &      122.273     \\\\\n",
       "\\textbf{email:credit\\_dmn} &       0.0080  &        0.017     &     0.475  &         0.635        &       -0.025    &        0.041     \\\\\n",
       "\\bottomrule\n",
       "\\end{tabular}\n",
       "\\end{center}"
      ],
      "text/plain": [
       "<class 'statsmodels.iolib.table.SimpleTable'>"
      ]
     },
     "execution_count": 13,
     "metadata": {},
     "output_type": "execute_result"
    }
   ],
   "source": [
    "df['risk_dmn'] = df['risk_score'] - df['risk_score'].mean()\n",
    "df['credit_dmn'] = df['credit_limit'] - df['credit_limit'].mean()\n",
    "model_int = ('payments ~ email * (risk_dmn + credit_dmn)')\n",
    "int = smf.ols(model_int, data=df)\n",
    "results_int = int.fit(cov_type='HC1')\n",
    "results_int.summary().tables[1]"
   ]
  },
  {
   "cell_type": "code",
   "execution_count": 14,
   "metadata": {},
   "outputs": [
    {
     "name": "stdout",
     "output_type": "stream",
     "text": [
      "The effect of the treatment is: 4.44\n",
      "Standard error: 2.1273\n",
      "Confidence interval: [0.27, 8.61]\n"
     ]
    }
   ],
   "source": [
    "int_est = results_int.params['email']\n",
    "int_se = results_int.bse['email']\n",
    "int_ci = results_int.conf_int().loc['email']\n",
    "print(f\"The effect of the treatment is: {int_est:.2f}\")\n",
    "print(f\"Standard error: {int_se:.4f}\")\n",
    "print(f\"Confidence interval: [{int_ci[0]:.2f}, {int_ci[1]:.2f}]\")"
   ]
  },
  {
   "cell_type": "markdown",
   "metadata": {},
   "source": [
    "What happens when we add open and agreement to the model?"
   ]
  },
  {
   "cell_type": "code",
   "execution_count": 15,
   "metadata": {},
   "outputs": [
    {
     "data": {
      "text/html": [
       "<table class=\"simpletable\">\n",
       "<tr>\n",
       "        <td></td>          <th>coef</th>     <th>std err</th>      <th>z</th>      <th>P>|z|</th>  <th>[0.025</th>    <th>0.975]</th>  \n",
       "</tr>\n",
       "<tr>\n",
       "  <th>Intercept</th>    <td>  488.4416</td> <td>   10.173</td> <td>   48.011</td> <td> 0.000</td> <td>  468.502</td> <td>  508.381</td>\n",
       "</tr>\n",
       "<tr>\n",
       "  <th>email</th>        <td>   -1.6095</td> <td>    2.708</td> <td>   -0.594</td> <td> 0.552</td> <td>   -6.917</td> <td>    3.698</td>\n",
       "</tr>\n",
       "<tr>\n",
       "  <th>risk_score</th>   <td>   -2.0929</td> <td>   40.340</td> <td>   -0.052</td> <td> 0.959</td> <td>  -81.158</td> <td>   76.973</td>\n",
       "</tr>\n",
       "<tr>\n",
       "  <th>credit_limit</th> <td>    0.1507</td> <td>    0.008</td> <td>   17.799</td> <td> 0.000</td> <td>    0.134</td> <td>    0.167</td>\n",
       "</tr>\n",
       "<tr>\n",
       "  <th>opened</th>       <td>    3.9808</td> <td>    3.974</td> <td>    1.002</td> <td> 0.316</td> <td>   -3.808</td> <td>   11.769</td>\n",
       "</tr>\n",
       "<tr>\n",
       "  <th>agreement</th>    <td>   11.7093</td> <td>    4.210</td> <td>    2.781</td> <td> 0.005</td> <td>    3.458</td> <td>   19.961</td>\n",
       "</tr>\n",
       "</table>"
      ],
      "text/latex": [
       "\\begin{center}\n",
       "\\begin{tabular}{lcccccc}\n",
       "\\toprule\n",
       "                       & \\textbf{coef} & \\textbf{std err} & \\textbf{z} & \\textbf{P$> |$z$|$} & \\textbf{[0.025} & \\textbf{0.975]}  \\\\\n",
       "\\midrule\n",
       "\\textbf{Intercept}     &     488.4416  &       10.173     &    48.011  &         0.000        &      468.502    &      508.381     \\\\\n",
       "\\textbf{email}         &      -1.6095  &        2.708     &    -0.594  &         0.552        &       -6.917    &        3.698     \\\\\n",
       "\\textbf{risk\\_score}   &      -2.0929  &       40.340     &    -0.052  &         0.959        &      -81.158    &       76.973     \\\\\n",
       "\\textbf{credit\\_limit} &       0.1507  &        0.008     &    17.799  &         0.000        &        0.134    &        0.167     \\\\\n",
       "\\textbf{opened}        &       3.9808  &        3.974     &     1.002  &         0.316        &       -3.808    &       11.769     \\\\\n",
       "\\textbf{agreement}     &      11.7093  &        4.210     &     2.781  &         0.005        &        3.458    &       19.961     \\\\\n",
       "\\bottomrule\n",
       "\\end{tabular}\n",
       "\\end{center}"
      ],
      "text/plain": [
       "<class 'statsmodels.iolib.table.SimpleTable'>"
      ]
     },
     "execution_count": 15,
     "metadata": {},
     "output_type": "execute_result"
    }
   ],
   "source": [
    "model_base2 = ('payments ~ email + risk_score + credit_limit + opened + agreement')\n",
    "base2 = smf.ols(model_base2, data=df)\n",
    "results_base2 = base2.fit(cov_type='HC1')\n",
    "results_base2.summary().tables[1]"
   ]
  },
  {
   "cell_type": "code",
   "execution_count": null,
   "metadata": {},
   "outputs": [],
   "source": []
  }
 ],
 "metadata": {
  "kernelspec": {
   "display_name": "causalML",
   "language": "python",
   "name": "python3"
  },
  "language_info": {
   "codemirror_mode": {
    "name": "ipython",
    "version": 3
   },
   "file_extension": ".py",
   "mimetype": "text/x-python",
   "name": "python",
   "nbconvert_exporter": "python",
   "pygments_lexer": "ipython3",
   "version": "3.9.18"
  }
 },
 "nbformat": 4,
 "nbformat_minor": 2
}
