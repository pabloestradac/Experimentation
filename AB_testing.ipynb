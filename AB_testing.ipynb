{
 "cells": [
  {
   "cell_type": "markdown",
   "metadata": {},
   "source": [
    "# Marketing A/B Testing\n",
    "\n",
    "Simple marketing campaign with experiment and control group for A/B testing [(Kaggle dataset)](https://www.kaggle.com/datasets/faviovaz/marketing-ab-testing/data).\n",
    "\n",
    "The majority of the people will be exposed to ads (the experimental group). And a small portion of people (the control group) would instead see a Public Service Announcement (PSA) (or nothing) in the exact size and place the ad would normally be.\n",
    "\n",
    "**Data dictionary:**\n",
    "\n",
    "- user id: User ID (unique)\n",
    "- test group: If \"ad\" the person saw the advertisement, if \"psa\" they only saw the public service announcement\n",
    "- converted: If a person bought the product then True, else is False\n",
    "- total ads: Amount of ads seen by person\n",
    "- most ads day: Day that the person saw the biggest amount of ads\n",
    "- most ads hour: Hour of day that the person saw the biggest amount of ads"
   ]
  },
  {
   "cell_type": "code",
   "execution_count": 1,
   "metadata": {},
   "outputs": [],
   "source": [
    "import numpy as np\n",
    "import pandas as pd\n",
    "import scipy.stats as stats\n",
    "import matplotlib.pyplot as plt"
   ]
  },
  {
   "cell_type": "code",
   "execution_count": 2,
   "metadata": {},
   "outputs": [
    {
     "data": {
      "text/html": [
       "<div>\n",
       "<style scoped>\n",
       "    .dataframe tbody tr th:only-of-type {\n",
       "        vertical-align: middle;\n",
       "    }\n",
       "\n",
       "    .dataframe tbody tr th {\n",
       "        vertical-align: top;\n",
       "    }\n",
       "\n",
       "    .dataframe thead th {\n",
       "        text-align: right;\n",
       "    }\n",
       "</style>\n",
       "<table border=\"1\" class=\"dataframe\">\n",
       "  <thead>\n",
       "    <tr style=\"text-align: right;\">\n",
       "      <th></th>\n",
       "      <th>user_id</th>\n",
       "      <th>test_group</th>\n",
       "      <th>converted</th>\n",
       "      <th>total_ads</th>\n",
       "      <th>most_ads_day</th>\n",
       "      <th>most_ads_hour</th>\n",
       "    </tr>\n",
       "  </thead>\n",
       "  <tbody>\n",
       "    <tr>\n",
       "      <th>0</th>\n",
       "      <td>1069124</td>\n",
       "      <td>ad</td>\n",
       "      <td>False</td>\n",
       "      <td>130</td>\n",
       "      <td>Monday</td>\n",
       "      <td>20</td>\n",
       "    </tr>\n",
       "    <tr>\n",
       "      <th>1</th>\n",
       "      <td>1119715</td>\n",
       "      <td>ad</td>\n",
       "      <td>False</td>\n",
       "      <td>93</td>\n",
       "      <td>Tuesday</td>\n",
       "      <td>22</td>\n",
       "    </tr>\n",
       "    <tr>\n",
       "      <th>2</th>\n",
       "      <td>1144181</td>\n",
       "      <td>ad</td>\n",
       "      <td>False</td>\n",
       "      <td>21</td>\n",
       "      <td>Tuesday</td>\n",
       "      <td>18</td>\n",
       "    </tr>\n",
       "    <tr>\n",
       "      <th>3</th>\n",
       "      <td>1435133</td>\n",
       "      <td>ad</td>\n",
       "      <td>False</td>\n",
       "      <td>355</td>\n",
       "      <td>Tuesday</td>\n",
       "      <td>10</td>\n",
       "    </tr>\n",
       "    <tr>\n",
       "      <th>4</th>\n",
       "      <td>1015700</td>\n",
       "      <td>ad</td>\n",
       "      <td>False</td>\n",
       "      <td>276</td>\n",
       "      <td>Friday</td>\n",
       "      <td>14</td>\n",
       "    </tr>\n",
       "  </tbody>\n",
       "</table>\n",
       "</div>"
      ],
      "text/plain": [
       "   user_id test_group  converted  total_ads most_ads_day  most_ads_hour\n",
       "0  1069124         ad      False        130       Monday             20\n",
       "1  1119715         ad      False         93      Tuesday             22\n",
       "2  1144181         ad      False         21      Tuesday             18\n",
       "3  1435133         ad      False        355      Tuesday             10\n",
       "4  1015700         ad      False        276       Friday             14"
      ]
     },
     "execution_count": 2,
     "metadata": {},
     "output_type": "execute_result"
    }
   ],
   "source": [
    "# Read data and clean up column names\n",
    "df = pd.read_csv('marketing_campaign.csv', index_col=0)\n",
    "df = df.rename(columns=lambda x: x.strip().replace(\" \", \"_\"))\n",
    "df.head()"
   ]
  },
  {
   "cell_type": "code",
   "execution_count": 3,
   "metadata": {},
   "outputs": [
    {
     "name": "stdout",
     "output_type": "stream",
     "text": [
      "<class 'pandas.core.frame.DataFrame'>\n",
      "Index: 588101 entries, 0 to 588100\n",
      "Data columns (total 6 columns):\n",
      " #   Column         Non-Null Count   Dtype \n",
      "---  ------         --------------   ----- \n",
      " 0   user_id        588101 non-null  int64 \n",
      " 1   test_group     588101 non-null  object\n",
      " 2   converted      588101 non-null  bool  \n",
      " 3   total_ads      588101 non-null  int64 \n",
      " 4   most_ads_day   588101 non-null  object\n",
      " 5   most_ads_hour  588101 non-null  int64 \n",
      "dtypes: bool(1), int64(3), object(2)\n",
      "memory usage: 27.5+ MB\n"
     ]
    }
   ],
   "source": [
    "# Check for missing values and data types\n",
    "df.info()"
   ]
  },
  {
   "cell_type": "code",
   "execution_count": 4,
   "metadata": {},
   "outputs": [
    {
     "data": {
      "text/html": [
       "<div>\n",
       "<style scoped>\n",
       "    .dataframe tbody tr th:only-of-type {\n",
       "        vertical-align: middle;\n",
       "    }\n",
       "\n",
       "    .dataframe tbody tr th {\n",
       "        vertical-align: top;\n",
       "    }\n",
       "\n",
       "    .dataframe thead th {\n",
       "        text-align: right;\n",
       "    }\n",
       "</style>\n",
       "<table border=\"1\" class=\"dataframe\">\n",
       "  <thead>\n",
       "    <tr style=\"text-align: right;\">\n",
       "      <th></th>\n",
       "      <th>user_id</th>\n",
       "      <th>test_group</th>\n",
       "      <th>converted</th>\n",
       "      <th>total_ads</th>\n",
       "      <th>most_ads_day</th>\n",
       "      <th>most_ads_hour</th>\n",
       "    </tr>\n",
       "  </thead>\n",
       "  <tbody>\n",
       "    <tr>\n",
       "      <th>count</th>\n",
       "      <td>588101.0</td>\n",
       "      <td>588101</td>\n",
       "      <td>588101</td>\n",
       "      <td>588101.0</td>\n",
       "      <td>588101</td>\n",
       "      <td>588101.0</td>\n",
       "    </tr>\n",
       "    <tr>\n",
       "      <th>unique</th>\n",
       "      <td>NaN</td>\n",
       "      <td>2</td>\n",
       "      <td>2</td>\n",
       "      <td>NaN</td>\n",
       "      <td>7</td>\n",
       "      <td>NaN</td>\n",
       "    </tr>\n",
       "    <tr>\n",
       "      <th>top</th>\n",
       "      <td>NaN</td>\n",
       "      <td>ad</td>\n",
       "      <td>False</td>\n",
       "      <td>NaN</td>\n",
       "      <td>Friday</td>\n",
       "      <td>NaN</td>\n",
       "    </tr>\n",
       "    <tr>\n",
       "      <th>freq</th>\n",
       "      <td>NaN</td>\n",
       "      <td>564577</td>\n",
       "      <td>573258</td>\n",
       "      <td>NaN</td>\n",
       "      <td>92608</td>\n",
       "      <td>NaN</td>\n",
       "    </tr>\n",
       "    <tr>\n",
       "      <th>mean</th>\n",
       "      <td>1310692.2</td>\n",
       "      <td>NaN</td>\n",
       "      <td>NaN</td>\n",
       "      <td>24.8</td>\n",
       "      <td>NaN</td>\n",
       "      <td>14.5</td>\n",
       "    </tr>\n",
       "    <tr>\n",
       "      <th>std</th>\n",
       "      <td>202226.0</td>\n",
       "      <td>NaN</td>\n",
       "      <td>NaN</td>\n",
       "      <td>43.7</td>\n",
       "      <td>NaN</td>\n",
       "      <td>4.8</td>\n",
       "    </tr>\n",
       "    <tr>\n",
       "      <th>min</th>\n",
       "      <td>900000.0</td>\n",
       "      <td>NaN</td>\n",
       "      <td>NaN</td>\n",
       "      <td>1.0</td>\n",
       "      <td>NaN</td>\n",
       "      <td>0.0</td>\n",
       "    </tr>\n",
       "    <tr>\n",
       "      <th>25%</th>\n",
       "      <td>1143190.0</td>\n",
       "      <td>NaN</td>\n",
       "      <td>NaN</td>\n",
       "      <td>4.0</td>\n",
       "      <td>NaN</td>\n",
       "      <td>11.0</td>\n",
       "    </tr>\n",
       "    <tr>\n",
       "      <th>50%</th>\n",
       "      <td>1313725.0</td>\n",
       "      <td>NaN</td>\n",
       "      <td>NaN</td>\n",
       "      <td>13.0</td>\n",
       "      <td>NaN</td>\n",
       "      <td>14.0</td>\n",
       "    </tr>\n",
       "    <tr>\n",
       "      <th>75%</th>\n",
       "      <td>1484088.0</td>\n",
       "      <td>NaN</td>\n",
       "      <td>NaN</td>\n",
       "      <td>27.0</td>\n",
       "      <td>NaN</td>\n",
       "      <td>18.0</td>\n",
       "    </tr>\n",
       "    <tr>\n",
       "      <th>max</th>\n",
       "      <td>1654483.0</td>\n",
       "      <td>NaN</td>\n",
       "      <td>NaN</td>\n",
       "      <td>2065.0</td>\n",
       "      <td>NaN</td>\n",
       "      <td>23.0</td>\n",
       "    </tr>\n",
       "  </tbody>\n",
       "</table>\n",
       "</div>"
      ],
      "text/plain": [
       "          user_id test_group converted  total_ads most_ads_day  most_ads_hour\n",
       "count    588101.0     588101    588101   588101.0       588101       588101.0\n",
       "unique        NaN          2         2        NaN            7            NaN\n",
       "top           NaN         ad     False        NaN       Friday            NaN\n",
       "freq          NaN     564577    573258        NaN        92608            NaN\n",
       "mean    1310692.2        NaN       NaN       24.8          NaN           14.5\n",
       "std      202226.0        NaN       NaN       43.7          NaN            4.8\n",
       "min      900000.0        NaN       NaN        1.0          NaN            0.0\n",
       "25%     1143190.0        NaN       NaN        4.0          NaN           11.0\n",
       "50%     1313725.0        NaN       NaN       13.0          NaN           14.0\n",
       "75%     1484088.0        NaN       NaN       27.0          NaN           18.0\n",
       "max     1654483.0        NaN       NaN     2065.0          NaN           23.0"
      ]
     },
     "execution_count": 4,
     "metadata": {},
     "output_type": "execute_result"
    }
   ],
   "source": [
    "# Descriptive statistics\n",
    "df.describe(include=\"all\").round(1)"
   ]
  },
  {
   "cell_type": "code",
   "execution_count": 5,
   "metadata": {},
   "outputs": [
    {
     "data": {
      "text/html": [
       "<div>\n",
       "<style scoped>\n",
       "    .dataframe tbody tr th:only-of-type {\n",
       "        vertical-align: middle;\n",
       "    }\n",
       "\n",
       "    .dataframe tbody tr th {\n",
       "        vertical-align: top;\n",
       "    }\n",
       "\n",
       "    .dataframe thead th {\n",
       "        text-align: right;\n",
       "    }\n",
       "</style>\n",
       "<table border=\"1\" class=\"dataframe\">\n",
       "  <thead>\n",
       "    <tr style=\"text-align: right;\">\n",
       "      <th></th>\n",
       "      <th>user_id</th>\n",
       "      <th>test_group</th>\n",
       "      <th>converted</th>\n",
       "      <th>total_ads</th>\n",
       "      <th>most_ads_day</th>\n",
       "      <th>most_ads_hour</th>\n",
       "    </tr>\n",
       "  </thead>\n",
       "  <tbody>\n",
       "  </tbody>\n",
       "</table>\n",
       "</div>"
      ],
      "text/plain": [
       "Empty DataFrame\n",
       "Columns: [user_id, test_group, converted, total_ads, most_ads_day, most_ads_hour]\n",
       "Index: []"
      ]
     },
     "execution_count": 5,
     "metadata": {},
     "output_type": "execute_result"
    }
   ],
   "source": [
    "# Check for duplicates\n",
    "df[df[\"user_id\"].duplicated()]"
   ]
  },
  {
   "cell_type": "markdown",
   "metadata": {},
   "source": [
    "## A/B Testing\n",
    "\n",
    "If the campaign was successful, how much of that success could be attributed to the ads?\n",
    "\n",
    "**1. Choose outcomes**\n",
    "   \n",
    "   - Evaluation metric: conversion rate\n",
    "\n",
    "   - Invariate metrics: total ads, hour of the day with most ads\n",
    "\n",
    "   - Null Hypothesis: the conversion rate of the control group is the same as the conversion rate of the experimental group\n",
    "\n",
    "   - Alternative Hypothesis: the conversion rate of the control group is different from the conversion rate of the experimental group"
   ]
  },
  {
   "cell_type": "code",
   "execution_count": 6,
   "metadata": {},
   "outputs": [
    {
     "data": {
      "text/html": [
       "<div>\n",
       "<style scoped>\n",
       "    .dataframe tbody tr th:only-of-type {\n",
       "        vertical-align: middle;\n",
       "    }\n",
       "\n",
       "    .dataframe tbody tr th {\n",
       "        vertical-align: top;\n",
       "    }\n",
       "\n",
       "    .dataframe thead tr th {\n",
       "        text-align: left;\n",
       "    }\n",
       "\n",
       "    .dataframe thead tr:last-of-type th {\n",
       "        text-align: right;\n",
       "    }\n",
       "</style>\n",
       "<table border=\"1\" class=\"dataframe\">\n",
       "  <thead>\n",
       "    <tr>\n",
       "      <th></th>\n",
       "      <th>user_id</th>\n",
       "      <th colspan=\"2\" halign=\"left\">converted</th>\n",
       "      <th>total_ads</th>\n",
       "      <th>most_ads_hour</th>\n",
       "    </tr>\n",
       "    <tr>\n",
       "      <th></th>\n",
       "      <th>count</th>\n",
       "      <th>sum</th>\n",
       "      <th>mean</th>\n",
       "      <th>mean</th>\n",
       "      <th>mean</th>\n",
       "    </tr>\n",
       "    <tr>\n",
       "      <th>test_group</th>\n",
       "      <th></th>\n",
       "      <th></th>\n",
       "      <th></th>\n",
       "      <th></th>\n",
       "      <th></th>\n",
       "    </tr>\n",
       "  </thead>\n",
       "  <tbody>\n",
       "    <tr>\n",
       "      <th>ad</th>\n",
       "      <td>564577</td>\n",
       "      <td>14423</td>\n",
       "      <td>0.026</td>\n",
       "      <td>24.823</td>\n",
       "      <td>14.476</td>\n",
       "    </tr>\n",
       "    <tr>\n",
       "      <th>psa</th>\n",
       "      <td>23524</td>\n",
       "      <td>420</td>\n",
       "      <td>0.018</td>\n",
       "      <td>24.761</td>\n",
       "      <td>14.305</td>\n",
       "    </tr>\n",
       "  </tbody>\n",
       "</table>\n",
       "</div>"
      ],
      "text/plain": [
       "           user_id converted        total_ads most_ads_hour\n",
       "             count       sum   mean      mean          mean\n",
       "test_group                                                 \n",
       "ad          564577     14423  0.026    24.823        14.476\n",
       "psa          23524       420  0.018    24.761        14.305"
      ]
     },
     "execution_count": 6,
     "metadata": {},
     "output_type": "execute_result"
    }
   ],
   "source": [
    "df.groupby('test_group').agg({'user_id': 'count', \n",
    "                              'converted': ['sum', 'mean'], \n",
    "                              'total_ads': 'mean', \n",
    "                               'most_ads_hour': 'mean'}).round(3)"
   ]
  },
  {
   "cell_type": "markdown",
   "metadata": {},
   "source": [
    "2. Choose baseline values and statistical levels: \n",
    "   \n",
    "   - Baseline conversion rate: 0.02 (2%)\n",
    "   - Baseline total ads: 25\n",
    "   - Baseline hour of the day with most ads: 2PM\n",
    "   - Statistical significance level: 0.05\n",
    "   - Statistical power: 0.8\n",
    "   - Minimum detectable effect: 0.01 (1%)"
   ]
  },
  {
   "cell_type": "code",
   "execution_count": 15,
   "metadata": {},
   "outputs": [],
   "source": [
    "# Baseline and statistical levels\n",
    "baseline_rate = 0.02\n",
    "baseline_total_ad = 25\n",
    "baseline_most_ad_hour = 14\n",
    "alpha = 0.05\n",
    "beta = 0.2\n",
    "power = 1 - beta\n",
    "mde = 0.01"
   ]
  },
  {
   "cell_type": "markdown",
   "metadata": {},
   "source": [
    "**3. Experiment size:**\n",
    "   \n",
    "$$\n",
    "n_1=\\frac{(r+1)}{r} \\frac{\\sigma^2\\left(Z_{\\text{power}} + \\mathrm{Z}_{\\alpha / 2}\\right)^2}{\\text{difference}^2}\n",
    "$$"
   ]
  },
  {
   "cell_type": "code",
   "execution_count": 16,
   "metadata": {},
   "outputs": [],
   "source": [
    "# Total users in each group\n",
    "total_ad = df.loc[df.test_group == 'ad', 'converted'].count()\n",
    "total_no_ad = df.loc[df.test_group == 'psa', 'converted'].count()\n",
    "# Total converted users in each group\n",
    "converted_ad = df.loc[df.test_group == 'ad', 'converted'].sum()\n",
    "converted_no_ad = df.loc[df.test_group == 'psa', 'converted'].sum()\n",
    "# Conversion rate in each group\n",
    "mean_ad = df.loc[df.test_group == 'ad', 'converted'].mean()\n",
    "mean_no_ad = df.loc[df.test_group == 'psa', 'converted'].mean()\n",
    "# Difference in conversion rate\n",
    "diff = mean_ad - mean_no_ad"
   ]
  },
  {
   "cell_type": "code",
   "execution_count": 17,
   "metadata": {},
   "outputs": [
    {
     "name": "stdout",
     "output_type": "stream",
     "text": [
      "Minimum sample size required on each group: 3827\n"
     ]
    }
   ],
   "source": [
    "# Standard normal distribution\n",
    "standard_norm = stats.norm(0, 1)\n",
    "# Find Z_beta from desired power\n",
    "Z_beta = standard_norm.ppf(power)\n",
    "# Find Z_alpha\n",
    "Z_alpha = standard_norm.ppf(1-alpha/2)\n",
    "# Average of probabilities from both groups\n",
    "pooled_prob = (baseline_rate + baseline_rate + mde) / 2\n",
    "# Minimum sample size required on each group\n",
    "min_N = 2 * pooled_prob * (1 - pooled_prob) * (Z_beta + Z_alpha)**2 / mde**2\n",
    "print(f\"Minimum sample size required on each group: {np.ceil(min_N):.0f}\")"
   ]
  },
  {
   "cell_type": "code",
   "execution_count": 11,
   "metadata": {},
   "outputs": [
    {
     "name": "stdout",
     "output_type": "stream",
     "text": [
      "Minimum sample size required with 24:1 ratio: group1 = 3778, group2 = 90672\n"
     ]
    }
   ],
   "source": [
    "# Minimum sample size required when ratios are different\n",
    "ratio = total_ad / total_no_ad\n",
    "min_N = pooled_prob * (1 - pooled_prob) * (Z_beta + Z_alpha)**2 / mde**2 * (ratio+1)/ratio\n",
    "print(f\"Minimum sample size required with {ratio:.0f}:1 ratio: group1 = {np.ceil(min_N):.0f}, group2 = {np.ceil(min_N*ratio):.0f}\")"
   ]
  },
  {
   "cell_type": "markdown",
   "metadata": {},
   "source": [
    "**4. Run test**\n",
    "\n",
    "Null Hypothesis: Conversion rate is the same for both groups (Ads did not have an effect)\n",
    "\n",
    "Alt Hypothesis: Conversion rate differs between groups (Ads had an effect)\n",
    "\n",
    "$$\n",
    "\\text{CI} = \\left[\\hat{d} - Z_{1-\\frac{\\alpha}{2}} \\text{SE}_{\\text{pool}}, \\ \\ \\hat{d} + Z_{1-\\frac{\\alpha}{2}} \\text{SE}_{\\text{pool}}\\right]\n",
    "$$\n",
    "\n",
    "where $\\text{SE}_{\\text{pool}} = \\sqrt{\\operatorname{Var}(\\hat{d})}=\\sqrt{\\frac{s_A^2}{n_A}+\\frac{s_B^2}{n_B}} \\ $, $\\hat{d} = \\bar{p}_B - \\bar{p}_A \\ $, and $s^2 = p(1-p)$ (analytical formula from binomial distribution)"
   ]
  },
  {
   "cell_type": "code",
   "execution_count": 12,
   "metadata": {},
   "outputs": [
    {
     "name": "stdout",
     "output_type": "stream",
     "text": [
      "Mean conversion rate for AD group: 0.0255 or 2.6%\n",
      "Mean conversion rate for PSA group: 0.0179 or 1.8%\n",
      "Difference in conversion rates: 0.0077 or 0.8%\n"
     ]
    }
   ],
   "source": [
    "print(f\"Mean conversion rate for AD group: {mean_ad:.4f} or {mean_ad*100:.1f}%\")\n",
    "print(f\"Mean conversion rate for PSA group: {mean_no_ad:.4f} or {mean_no_ad*100:.1f}%\")\n",
    "print(f\"Difference in conversion rates: {diff:.4f} or {diff*100:.1f}%\")"
   ]
  },
  {
   "cell_type": "code",
   "execution_count": 13,
   "metadata": {},
   "outputs": [
    {
     "data": {
      "image/png": "[encoded data removed]",
      "text/plain": [
       "<Figure size 600x300 with 1 Axes>"
      ]
     },
     "metadata": {},
     "output_type": "display_data"
    }
   ],
   "source": [
    "# Standard error in each group\n",
    "se_ad = np.sqrt(mean_ad * (1-mean_ad)) / np.sqrt(total_ad) # analytical formula\n",
    "# se_ad = df.loc[df.test_group == 'psa', 'converted'].std() / np.sqrt(total_ad) # empirical formula\n",
    "se_no_ad = np.sqrt(mean_no_ad * (1-mean_no_ad)) / np.sqrt(total_no_ad)\n",
    "\n",
    "# plot the null and alternative hypothesis\n",
    "fig, ax = plt.subplots(figsize=(6,3))\n",
    "x = np.linspace(0.01, 0.04, 1000)\n",
    "yA = stats.norm(mean_ad, se_ad).pdf(x)\n",
    "ax.plot(x, yA, c='red', label='AD Group')\n",
    "ax.axvline(x=mean_ad, c='red', alpha=0.5, linestyle='--')\n",
    "yB = stats.norm(mean_no_ad, se_no_ad).pdf(x)\n",
    "ax.plot(x, yB, c='blue', label='PSA Group')\n",
    "ax.axvline(x=mean_no_ad, c='blue', alpha=0.5, linestyle='--')\n",
    "plt.xlabel('Converted Proportion')\n",
    "plt.legend()\n",
    "plt.show()"
   ]
  },
  {
   "cell_type": "code",
   "execution_count": 14,
   "metadata": {},
   "outputs": [
    {
     "name": "stdout",
     "output_type": "stream",
     "text": [
      "Confidence interval: 0.0054 to 0.0100\n"
     ]
    }
   ],
   "source": [
    "se_pooled = np.sqrt(mean_ad*(1-mean_ad)/total_ad + mean_no_ad*(1-mean_no_ad)/total_no_ad)\n",
    "ci = (diff - Z_alpha * se_pooled, diff + Z_alpha * se_pooled)\n",
    "print(f\"Confidence interval: {ci[0]:.4f} to {ci[1]:.4f}\")"
   ]
  },
  {
   "cell_type": "code",
   "execution_count": 15,
   "metadata": {},
   "outputs": [
    {
     "name": "stdout",
     "output_type": "stream",
     "text": [
      "t-statistic: 7.3704 with p-value: 0.0000\n"
     ]
    }
   ],
   "source": [
    "# This is the same as regression\n",
    "t_results = stats.ttest_ind(df.loc[df.test_group == 'ad', 'converted'], \n",
    "                            df.loc[df.test_group == 'psa', 'converted'])\n",
    "print(f\"t-statistic: {t_results.statistic:.4f} with p-value: {t_results.pvalue:.4f}\")"
   ]
  },
  {
   "cell_type": "code",
   "execution_count": 16,
   "metadata": {},
   "outputs": [
    {
     "name": "stdout",
     "output_type": "stream",
     "text": [
      "Welch's t-statistic: 8.6572 with p-value: 0.0000\n"
     ]
    }
   ],
   "source": [
    "# Welch's t-test\n",
    "t_results = stats.ttest_ind(df.loc[df.test_group == 'ad', 'converted'], \n",
    "                            df.loc[df.test_group == 'psa', 'converted'], equal_var=False)\n",
    "print(f\"Welch's t-statistic: {t_results.statistic:.4f} with p-value: {t_results.pvalue:.4f}\")"
   ]
  },
  {
   "cell_type": "markdown",
   "metadata": {},
   "source": [
    "**5. Conclusions:**\n",
    "\n",
    "- If the confidence interval does not contain zero, we can reject the null hypothesis and conclude that the ads had an effect on the conversion rate.\n",
    "\n",
    "- If we run the experiment many times, we would expect the confidence interval to contain the true effect 95% of the time.\n",
    "\n",
    "- This is not the same as saying that we are 95% confident that the true effect is contained in the confidence interval (you would need a Bayesian approach).\n",
    "\n",
    "- Practical significance: if the ads had an effect, how big was it? Is it worth the cost of the campaign an effect of 0.5 to 1% conversion rate?"
   ]
  },
  {
   "cell_type": "markdown",
   "metadata": {},
   "source": [
    "**Sanity Checks (TO DO)**\n",
    "\n",
    "Check if the invariate metrics are similar between groups."
   ]
  },
  {
   "cell_type": "code",
   "execution_count": null,
   "metadata": {},
   "outputs": [
    {
     "name": "stdout",
     "output_type": "stream",
     "text": [
      "t-statistic: 0.2139 with p-value: 0.8306\n"
     ]
    }
   ],
   "source": [
    "# Invariant metric: total_ads\n",
    "t_results = stats.ttest_ind(df.loc[df.test_group == 'ad', 'total_ads'], \n",
    "                            df.loc[df.test_group == 'psa', 'total_ads'])\n",
    "print(f\"t-statistic: {t_results.statistic:.4f} with p-value: {t_results.pvalue:.4f}\")"
   ]
  },
  {
   "cell_type": "code",
   "execution_count": null,
   "metadata": {},
   "outputs": [
    {
     "name": "stdout",
     "output_type": "stream",
     "text": [
      "t-statistic: 5.3147 with p-value: 0.0000\n"
     ]
    }
   ],
   "source": [
    "# Invariant metric: most_ads_hour\n",
    "t_results = stats.ttest_ind(df.loc[df.test_group == 'ad', 'most_ads_hour'], \n",
    "                            df.loc[df.test_group == 'psa', 'most_ads_hour'])\n",
    "print(f\"t-statistic: {t_results.statistic:.4f} with p-value: {t_results.pvalue:.4f}\")"
   ]
  },
  {
   "cell_type": "markdown",
   "metadata": {},
   "source": [
    "## Bootstrap\n",
    "\n",
    "If the sample size is small, we can use bootstrapping to estimate the confidence interval."
   ]
  },
  {
   "cell_type": "code",
   "execution_count": 47,
   "metadata": {},
   "outputs": [
    {
     "name": "stdout",
     "output_type": "stream",
     "text": [
      "Bootstrap confidence interval: 0.0061 to 0.0095\n"
     ]
    }
   ],
   "source": [
    "# Bootstrap A/B testing\n",
    "n = 100\n",
    "boot_diff = []\n",
    "\n",
    "for _ in range(n):\n",
    "    sample = df.sample(frac=1, replace=True)\n",
    "    ad = sample.loc[sample.test_group == 'ad', 'converted'].mean()\n",
    "    psa = sample.loc[sample.test_group == 'psa', 'converted'].mean()\n",
    "    boot_diff.append(ad - psa)\n",
    "\n",
    "ci = np.percentile(boot_diff, [alpha/2*100, (1-alpha/2)*100])\n",
    "print(f\"Bootstrap confidence interval: {ci[0]:.4f} to {ci[1]:.4f}\")"
   ]
  },
  {
   "cell_type": "markdown",
   "metadata": {},
   "source": [
    "**Sanity Checks (TO DO)**\n",
    "\n",
    "Check if the invariate metrics are similar between groups using bootstrap."
   ]
  },
  {
   "cell_type": "code",
   "execution_count": 48,
   "metadata": {},
   "outputs": [
    {
     "name": "stdout",
     "output_type": "stream",
     "text": [
      "Bootstrap confidence interval: -0.4918 to 0.5403\n"
     ]
    }
   ],
   "source": [
    "# Bootstrap A/B testing\n",
    "n = 100\n",
    "boot_diff = []\n",
    "\n",
    "for _ in range(n):\n",
    "    sample = df.sample(frac=1, replace=True)\n",
    "    ad = sample.loc[sample.test_group == 'ad', 'total_ads'].mean()\n",
    "    psa = sample.loc[sample.test_group == 'psa', 'total_ads'].mean()\n",
    "    boot_diff.append(ad - psa)\n",
    "\n",
    "ci = np.percentile(boot_diff, [alpha/2*100, (1-alpha/2)*100])\n",
    "print(f\"Bootstrap confidence interval: {ci[0]:.4f} to {ci[1]:.4f}\")"
   ]
  },
  {
   "cell_type": "code",
   "execution_count": 49,
   "metadata": {},
   "outputs": [
    {
     "name": "stdout",
     "output_type": "stream",
     "text": [
      "Bootstrap confidence interval: 0.1107 to 0.2357\n"
     ]
    }
   ],
   "source": [
    "# Bootstrap A/B testing\n",
    "n = 100\n",
    "boot_diff = []\n",
    "\n",
    "for _ in range(n):\n",
    "    sample = df.sample(frac=1, replace=True)\n",
    "    ad = sample.loc[sample.test_group == 'ad', 'most_ads_hour'].mean()\n",
    "    psa = sample.loc[sample.test_group == 'psa', 'most_ads_hour'].mean()\n",
    "    boot_diff.append(ad - psa)\n",
    "\n",
    "ci = np.percentile(boot_diff, [alpha/2*100, (1-alpha/2)*100])\n",
    "print(f\"Bootstrap confidence interval: {ci[0]:.4f} to {ci[1]:.4f}\")"
   ]
  },
  {
   "cell_type": "markdown",
   "metadata": {},
   "source": [
    "## [Quantile A/B Testing](https://engineering.atspotify.com/2022/03/comparing-quantiles-at-scale-in-online-a-b-testing/)\n",
    "\n",
    "[Streaming Video Experimentation at Netflix: Visualizing Practical and Statistical Significance](https://netflixtechblog.com/streaming-video-experimentation-at-netflix-visualizing-practical-and-statistical-significance-7117420f4e9a)\n",
    "\n",
    "If we care more about the tails of the distribution, we can use quantile A/B testing."
   ]
  },
  {
   "cell_type": "code",
   "execution_count": 40,
   "metadata": {},
   "outputs": [
    {
     "name": "stdout",
     "output_type": "stream",
     "text": [
      "The sample difference-in-medians is 0.20011866072941542,the 95.0% confidence interval for the difference-in-medians is given by ([0.16889293 0.23922737]).\n"
     ]
    }
   ],
   "source": [
    "import numpy as np\n",
    "from numpy.random import normal, binomial\n",
    "\n",
    "alpha=.05\n",
    "quantile_of_interest=0.5\n",
    "sample_size=10000\n",
    "number_of_bootstrap_samples=1000000\n",
    "outcome_control_sorted = np.sort(normal(1,1,sample_size))\n",
    "outcome_treatment_sorted = np.sort(normal(1.2,1,sample_size))\n",
    "\n",
    "bootstrap_difference_distribution = outcome_treatment_sorted[binomial(sample_size+1, quantile_of_interest,\n",
    "number_of_bootstrap_samples)] - outcome_control_sorted[binomial(sample_size+1,\n",
    "                        quantile_of_interest, number_of_bootstrap_samples)]\n",
    "bootstrap_confidence_interval = np.quantile(bootstrap_difference_distribution,\n",
    "[alpha/2 , 1-alpha/2])\n",
    "\n",
    "print(f\"The sample difference-in-medians is \\\n",
    "{np.quantile(outcome_treatment_sorted, quantile_of_interest)-np.quantile(outcome_control_sorted, quantile_of_interest)},\\\n",
    "the {(1-alpha)*100}% confidence interval for the difference-in-medians is given by ({bootstrap_confidence_interval}).\")"
   ]
  },
  {
   "cell_type": "code",
   "execution_count": 46,
   "metadata": {},
   "outputs": [
    {
     "data": {
      "text/plain": [
       "'The empirical false positive rate of the test using the bootstrap confidence interval is 5.140000000000001%, the intended false positive rate is 5.0%'"
      ]
     },
     "execution_count": 46,
     "metadata": {},
     "output_type": "execute_result"
    }
   ],
   "source": [
    "import numpy as np\n",
    "from scipy.stats import binom\n",
    "\n",
    "alpha=.05\n",
    "quantile_of_interest=0.5\n",
    "sample_size=10000\n",
    "number_of_bootstrap_samples=1000000\n",
    "replications = 10000\n",
    "\n",
    "bootstrap_confidence_intervals = []\n",
    "ci_index = int(np.floor(binom.ppf(alpha,sample_size+1,\n",
    "quantile_of_interest)))\n",
    "for i in range(replications):\n",
    "    outcome_sorted = np.sort(np.random.normal(0,1,sample_size))\n",
    "    bootstrap_confidence_intervals.append(outcome_sorted[ci_index])\n",
    "\n",
    "f\"The empirical false positive rate of the test using the bootstrap confidence interval is {np.mean([1 if i>0  else 0 for i in bootstrap_confidence_intervals])*100}%, the intended false positive rate is {alpha*100}%\""
   ]
  },
  {
   "cell_type": "markdown",
   "metadata": {},
   "source": [
    "[Udacity A/B Testing](https://www.kaggle.com/code/tammyrotem/ab-tests-with-python)\n",
    "\n",
    "[The Math Behind A/B Testing](https://towardsdatascience.com/the-math-behind-a-b-testing-with-example-code-part-1-of-2-7be752e1d06f)"
   ]
  },
  {
   "cell_type": "code",
   "execution_count": null,
   "metadata": {},
   "outputs": [],
   "source": []
  }
 ],
 "metadata": {
  "kernelspec": {
   "display_name": "causalML",
   "language": "python",
   "name": "python3"
  },
  "language_info": {
   "codemirror_mode": {
    "name": "ipython",
    "version": 3
   },
   "file_extension": ".py",
   "mimetype": "text/x-python",
   "name": "python",
   "nbconvert_exporter": "python",
   "pygments_lexer": "ipython3",
   "version": "3.9.18"
  }
 },
 "nbformat": 4,
 "nbformat_minor": 2
}
